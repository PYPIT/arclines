{
 "cells": [
  {
   "cell_type": "markdown",
   "metadata": {},
   "source": [
    "# Fiddling about with a ThAr spectrum v[1.1]\n",
    "    v1.0 -- JXP starts with a good line list (not a complete one)\n",
    "    v1.1 -- JXP uses RC's new complete list (ThAr_allfitted.dat)"
   ]
  },
  {
   "cell_type": "code",
   "execution_count": 1,
   "metadata": {
    "collapsed": true
   },
   "outputs": [],
   "source": [
    "%matplotlib notebook"
   ]
  },
  {
   "cell_type": "code",
   "execution_count": 2,
   "metadata": {
    "collapsed": true
   },
   "outputs": [],
   "source": [
    "# imports\n",
    "from imp import reload\n",
    "import numpy as np\n",
    "from matplotlib import pyplot as plt\n",
    "\n",
    "from scipy.interpolate import interp1d\n",
    "\n",
    "from astropy.table import Table\n",
    "\n",
    "from arclines.holy import utils as arch_utils\n",
    "from arclines.holy import patterns as arch_patt"
   ]
  },
  {
   "cell_type": "markdown",
   "metadata": {},
   "source": [
    "### Ryan's head start\n",
    "    dispersion = 0.0207737, but varies from 0.01513672-0.02539062"
   ]
  },
  {
   "cell_type": "markdown",
   "metadata": {},
   "source": [
    "## Load spectrum"
   ]
  },
  {
   "cell_type": "code",
   "execution_count": 3,
   "metadata": {},
   "outputs": [],
   "source": [
    "spec = Table.read('ThAr_order.dat', format='ascii')"
   ]
  },
  {
   "cell_type": "code",
   "execution_count": 4,
   "metadata": {},
   "outputs": [
    {
     "data": {
      "text/html": [
       "&lt;Table length=5&gt;\n",
       "<table id=\"table140513708669808\" class=\"table-striped table-bordered table-condensed\">\n",
       "<thead><tr><th>Amp</th><th>Mask</th></tr></thead>\n",
       "<thead><tr><th>float64</th><th>float64</th></tr></thead>\n",
       "<tr><td>123.699002208</td><td>0.0</td></tr>\n",
       "<tr><td>146.297296666</td><td>0.0</td></tr>\n",
       "<tr><td>144.898493366</td><td>0.0</td></tr>\n",
       "<tr><td>139.902062285</td><td>0.0</td></tr>\n",
       "<tr><td>134.507523664</td><td>0.0</td></tr>\n",
       "</table>"
      ],
      "text/plain": [
       "<Table length=5>\n",
       "     Amp        Mask \n",
       "   float64    float64\n",
       "------------- -------\n",
       "123.699002208     0.0\n",
       "146.297296666     0.0\n",
       "144.898493366     0.0\n",
       "139.902062285     0.0\n",
       "134.507523664     0.0"
      ]
     },
     "execution_count": 4,
     "metadata": {},
     "output_type": "execute_result"
    }
   ],
   "source": [
    "spec[0:5]"
   ]
  },
  {
   "cell_type": "code",
   "execution_count": 5,
   "metadata": {},
   "outputs": [
    {
     "data": {
      "text/plain": [
       "4608"
      ]
     },
     "execution_count": 5,
     "metadata": {},
     "output_type": "execute_result"
    }
   ],
   "source": [
    "npix = len(spec)\n",
    "npix"
   ]
  },
  {
   "cell_type": "markdown",
   "metadata": {},
   "source": [
    "### Plot"
   ]
  },
  {
   "cell_type": "code",
   "execution_count": 6,
   "metadata": {},
   "outputs": [
    {
     "data": {
      "application/javascript": [
       "/* Put everything inside the global mpl namespace */\n",
       "window.mpl = {};\n",
       "\n",
       "\n",
       "mpl.get_websocket_type = function() {\n",
       "    if (typeof(WebSocket) !== 'undefined') {\n",
       "        return WebSocket;\n",
       "    } else if (typeof(MozWebSocket) !== 'undefined') {\n",
       "        return MozWebSocket;\n",
       "    } else {\n",
       "        alert('Your browser does not have WebSocket support.' +\n",
       "              'Please try Chrome, Safari or Firefox ≥ 6. ' +\n",
       "              'Firefox 4 and 5 are also supported but you ' +\n",
       "              'have to enable WebSockets in about:config.');\n",
       "    };\n",
       "}\n",
       "\n",
       "mpl.figure = function(figure_id, websocket, ondownload, parent_element) {\n",
       "    this.id = figure_id;\n",
       "\n",
       "    this.ws = websocket;\n",
       "\n",
       "    this.supports_binary = (this.ws.binaryType != undefined);\n",
       "\n",
       "    if (!this.supports_binary) {\n",
       "        var warnings = document.getElementById(\"mpl-warnings\");\n",
       "        if (warnings) {\n",
       "            warnings.style.display = 'block';\n",
       "            warnings.textContent = (\n",
       "                \"This browser does not support binary websocket messages. \" +\n",
       "                    \"Performance may be slow.\");\n",
       "        }\n",
       "    }\n",
       "\n",
       "    this.imageObj = new Image();\n",
       "\n",
       "    this.context = undefined;\n",
       "    this.message = undefined;\n",
       "    this.canvas = undefined;\n",
       "    this.rubberband_canvas = undefined;\n",
       "    this.rubberband_context = undefined;\n",
       "    this.format_dropdown = undefined;\n",
       "\n",
       "    this.image_mode = 'full';\n",
       "\n",
       "    this.root = $('<div/>');\n",
       "    this._root_extra_style(this.root)\n",
       "    this.root.attr('style', 'display: inline-block');\n",
       "\n",
       "    $(parent_element).append(this.root);\n",
       "\n",
       "    this._init_header(this);\n",
       "    this._init_canvas(this);\n",
       "    this._init_toolbar(this);\n",
       "\n",
       "    var fig = this;\n",
       "\n",
       "    this.waiting = false;\n",
       "\n",
       "    this.ws.onopen =  function () {\n",
       "            fig.send_message(\"supports_binary\", {value: fig.supports_binary});\n",
       "            fig.send_message(\"send_image_mode\", {});\n",
       "            if (mpl.ratio != 1) {\n",
       "                fig.send_message(\"set_dpi_ratio\", {'dpi_ratio': mpl.ratio});\n",
       "            }\n",
       "            fig.send_message(\"refresh\", {});\n",
       "        }\n",
       "\n",
       "    this.imageObj.onload = function() {\n",
       "            if (fig.image_mode == 'full') {\n",
       "                // Full images could contain transparency (where diff images\n",
       "                // almost always do), so we need to clear the canvas so that\n",
       "                // there is no ghosting.\n",
       "                fig.context.clearRect(0, 0, fig.canvas.width, fig.canvas.height);\n",
       "            }\n",
       "            fig.context.drawImage(fig.imageObj, 0, 0);\n",
       "        };\n",
       "\n",
       "    this.imageObj.onunload = function() {\n",
       "        this.ws.close();\n",
       "    }\n",
       "\n",
       "    this.ws.onmessage = this._make_on_message_function(this);\n",
       "\n",
       "    this.ondownload = ondownload;\n",
       "}\n",
       "\n",
       "mpl.figure.prototype._init_header = function() {\n",
       "    var titlebar = $(\n",
       "        '<div class=\"ui-dialog-titlebar ui-widget-header ui-corner-all ' +\n",
       "        'ui-helper-clearfix\"/>');\n",
       "    var titletext = $(\n",
       "        '<div class=\"ui-dialog-title\" style=\"width: 100%; ' +\n",
       "        'text-align: center; padding: 3px;\"/>');\n",
       "    titlebar.append(titletext)\n",
       "    this.root.append(titlebar);\n",
       "    this.header = titletext[0];\n",
       "}\n",
       "\n",
       "\n",
       "\n",
       "mpl.figure.prototype._canvas_extra_style = function(canvas_div) {\n",
       "\n",
       "}\n",
       "\n",
       "\n",
       "mpl.figure.prototype._root_extra_style = function(canvas_div) {\n",
       "\n",
       "}\n",
       "\n",
       "mpl.figure.prototype._init_canvas = function() {\n",
       "    var fig = this;\n",
       "\n",
       "    var canvas_div = $('<div/>');\n",
       "\n",
       "    canvas_div.attr('style', 'position: relative; clear: both; outline: 0');\n",
       "\n",
       "    function canvas_keyboard_event(event) {\n",
       "        return fig.key_event(event, event['data']);\n",
       "    }\n",
       "\n",
       "    canvas_div.keydown('key_press', canvas_keyboard_event);\n",
       "    canvas_div.keyup('key_release', canvas_keyboard_event);\n",
       "    this.canvas_div = canvas_div\n",
       "    this._canvas_extra_style(canvas_div)\n",
       "    this.root.append(canvas_div);\n",
       "\n",
       "    var canvas = $('<canvas/>');\n",
       "    canvas.addClass('mpl-canvas');\n",
       "    canvas.attr('style', \"left: 0; top: 0; z-index: 0; outline: 0\")\n",
       "\n",
       "    this.canvas = canvas[0];\n",
       "    this.context = canvas[0].getContext(\"2d\");\n",
       "\n",
       "    var backingStore = this.context.backingStorePixelRatio ||\n",
       "\tthis.context.webkitBackingStorePixelRatio ||\n",
       "\tthis.context.mozBackingStorePixelRatio ||\n",
       "\tthis.context.msBackingStorePixelRatio ||\n",
       "\tthis.context.oBackingStorePixelRatio ||\n",
       "\tthis.context.backingStorePixelRatio || 1;\n",
       "\n",
       "    mpl.ratio = (window.devicePixelRatio || 1) / backingStore;\n",
       "\n",
       "    var rubberband = $('<canvas/>');\n",
       "    rubberband.attr('style', \"position: absolute; left: 0; top: 0; z-index: 1;\")\n",
       "\n",
       "    var pass_mouse_events = true;\n",
       "\n",
       "    canvas_div.resizable({\n",
       "        start: function(event, ui) {\n",
       "            pass_mouse_events = false;\n",
       "        },\n",
       "        resize: function(event, ui) {\n",
       "            fig.request_resize(ui.size.width, ui.size.height);\n",
       "        },\n",
       "        stop: function(event, ui) {\n",
       "            pass_mouse_events = true;\n",
       "            fig.request_resize(ui.size.width, ui.size.height);\n",
       "        },\n",
       "    });\n",
       "\n",
       "    function mouse_event_fn(event) {\n",
       "        if (pass_mouse_events)\n",
       "            return fig.mouse_event(event, event['data']);\n",
       "    }\n",
       "\n",
       "    rubberband.mousedown('button_press', mouse_event_fn);\n",
       "    rubberband.mouseup('button_release', mouse_event_fn);\n",
       "    // Throttle sequential mouse events to 1 every 20ms.\n",
       "    rubberband.mousemove('motion_notify', mouse_event_fn);\n",
       "\n",
       "    rubberband.mouseenter('figure_enter', mouse_event_fn);\n",
       "    rubberband.mouseleave('figure_leave', mouse_event_fn);\n",
       "\n",
       "    canvas_div.on(\"wheel\", function (event) {\n",
       "        event = event.originalEvent;\n",
       "        event['data'] = 'scroll'\n",
       "        if (event.deltaY < 0) {\n",
       "            event.step = 1;\n",
       "        } else {\n",
       "            event.step = -1;\n",
       "        }\n",
       "        mouse_event_fn(event);\n",
       "    });\n",
       "\n",
       "    canvas_div.append(canvas);\n",
       "    canvas_div.append(rubberband);\n",
       "\n",
       "    this.rubberband = rubberband;\n",
       "    this.rubberband_canvas = rubberband[0];\n",
       "    this.rubberband_context = rubberband[0].getContext(\"2d\");\n",
       "    this.rubberband_context.strokeStyle = \"#000000\";\n",
       "\n",
       "    this._resize_canvas = function(width, height) {\n",
       "        // Keep the size of the canvas, canvas container, and rubber band\n",
       "        // canvas in synch.\n",
       "        canvas_div.css('width', width)\n",
       "        canvas_div.css('height', height)\n",
       "\n",
       "        canvas.attr('width', width * mpl.ratio);\n",
       "        canvas.attr('height', height * mpl.ratio);\n",
       "        canvas.attr('style', 'width: ' + width + 'px; height: ' + height + 'px;');\n",
       "\n",
       "        rubberband.attr('width', width);\n",
       "        rubberband.attr('height', height);\n",
       "    }\n",
       "\n",
       "    // Set the figure to an initial 600x600px, this will subsequently be updated\n",
       "    // upon first draw.\n",
       "    this._resize_canvas(600, 600);\n",
       "\n",
       "    // Disable right mouse context menu.\n",
       "    $(this.rubberband_canvas).bind(\"contextmenu\",function(e){\n",
       "        return false;\n",
       "    });\n",
       "\n",
       "    function set_focus () {\n",
       "        canvas.focus();\n",
       "        canvas_div.focus();\n",
       "    }\n",
       "\n",
       "    window.setTimeout(set_focus, 100);\n",
       "}\n",
       "\n",
       "mpl.figure.prototype._init_toolbar = function() {\n",
       "    var fig = this;\n",
       "\n",
       "    var nav_element = $('<div/>')\n",
       "    nav_element.attr('style', 'width: 100%');\n",
       "    this.root.append(nav_element);\n",
       "\n",
       "    // Define a callback function for later on.\n",
       "    function toolbar_event(event) {\n",
       "        return fig.toolbar_button_onclick(event['data']);\n",
       "    }\n",
       "    function toolbar_mouse_event(event) {\n",
       "        return fig.toolbar_button_onmouseover(event['data']);\n",
       "    }\n",
       "\n",
       "    for(var toolbar_ind in mpl.toolbar_items) {\n",
       "        var name = mpl.toolbar_items[toolbar_ind][0];\n",
       "        var tooltip = mpl.toolbar_items[toolbar_ind][1];\n",
       "        var image = mpl.toolbar_items[toolbar_ind][2];\n",
       "        var method_name = mpl.toolbar_items[toolbar_ind][3];\n",
       "\n",
       "        if (!name) {\n",
       "            // put a spacer in here.\n",
       "            continue;\n",
       "        }\n",
       "        var button = $('<button/>');\n",
       "        button.addClass('ui-button ui-widget ui-state-default ui-corner-all ' +\n",
       "                        'ui-button-icon-only');\n",
       "        button.attr('role', 'button');\n",
       "        button.attr('aria-disabled', 'false');\n",
       "        button.click(method_name, toolbar_event);\n",
       "        button.mouseover(tooltip, toolbar_mouse_event);\n",
       "\n",
       "        var icon_img = $('<span/>');\n",
       "        icon_img.addClass('ui-button-icon-primary ui-icon');\n",
       "        icon_img.addClass(image);\n",
       "        icon_img.addClass('ui-corner-all');\n",
       "\n",
       "        var tooltip_span = $('<span/>');\n",
       "        tooltip_span.addClass('ui-button-text');\n",
       "        tooltip_span.html(tooltip);\n",
       "\n",
       "        button.append(icon_img);\n",
       "        button.append(tooltip_span);\n",
       "\n",
       "        nav_element.append(button);\n",
       "    }\n",
       "\n",
       "    var fmt_picker_span = $('<span/>');\n",
       "\n",
       "    var fmt_picker = $('<select/>');\n",
       "    fmt_picker.addClass('mpl-toolbar-option ui-widget ui-widget-content');\n",
       "    fmt_picker_span.append(fmt_picker);\n",
       "    nav_element.append(fmt_picker_span);\n",
       "    this.format_dropdown = fmt_picker[0];\n",
       "\n",
       "    for (var ind in mpl.extensions) {\n",
       "        var fmt = mpl.extensions[ind];\n",
       "        var option = $(\n",
       "            '<option/>', {selected: fmt === mpl.default_extension}).html(fmt);\n",
       "        fmt_picker.append(option)\n",
       "    }\n",
       "\n",
       "    // Add hover states to the ui-buttons\n",
       "    $( \".ui-button\" ).hover(\n",
       "        function() { $(this).addClass(\"ui-state-hover\");},\n",
       "        function() { $(this).removeClass(\"ui-state-hover\");}\n",
       "    );\n",
       "\n",
       "    var status_bar = $('<span class=\"mpl-message\"/>');\n",
       "    nav_element.append(status_bar);\n",
       "    this.message = status_bar[0];\n",
       "}\n",
       "\n",
       "mpl.figure.prototype.request_resize = function(x_pixels, y_pixels) {\n",
       "    // Request matplotlib to resize the figure. Matplotlib will then trigger a resize in the client,\n",
       "    // which will in turn request a refresh of the image.\n",
       "    this.send_message('resize', {'width': x_pixels, 'height': y_pixels});\n",
       "}\n",
       "\n",
       "mpl.figure.prototype.send_message = function(type, properties) {\n",
       "    properties['type'] = type;\n",
       "    properties['figure_id'] = this.id;\n",
       "    this.ws.send(JSON.stringify(properties));\n",
       "}\n",
       "\n",
       "mpl.figure.prototype.send_draw_message = function() {\n",
       "    if (!this.waiting) {\n",
       "        this.waiting = true;\n",
       "        this.ws.send(JSON.stringify({type: \"draw\", figure_id: this.id}));\n",
       "    }\n",
       "}\n",
       "\n",
       "\n",
       "mpl.figure.prototype.handle_save = function(fig, msg) {\n",
       "    var format_dropdown = fig.format_dropdown;\n",
       "    var format = format_dropdown.options[format_dropdown.selectedIndex].value;\n",
       "    fig.ondownload(fig, format);\n",
       "}\n",
       "\n",
       "\n",
       "mpl.figure.prototype.handle_resize = function(fig, msg) {\n",
       "    var size = msg['size'];\n",
       "    if (size[0] != fig.canvas.width || size[1] != fig.canvas.height) {\n",
       "        fig._resize_canvas(size[0], size[1]);\n",
       "        fig.send_message(\"refresh\", {});\n",
       "    };\n",
       "}\n",
       "\n",
       "mpl.figure.prototype.handle_rubberband = function(fig, msg) {\n",
       "    var x0 = msg['x0'] / mpl.ratio;\n",
       "    var y0 = (fig.canvas.height - msg['y0']) / mpl.ratio;\n",
       "    var x1 = msg['x1'] / mpl.ratio;\n",
       "    var y1 = (fig.canvas.height - msg['y1']) / mpl.ratio;\n",
       "    x0 = Math.floor(x0) + 0.5;\n",
       "    y0 = Math.floor(y0) + 0.5;\n",
       "    x1 = Math.floor(x1) + 0.5;\n",
       "    y1 = Math.floor(y1) + 0.5;\n",
       "    var min_x = Math.min(x0, x1);\n",
       "    var min_y = Math.min(y0, y1);\n",
       "    var width = Math.abs(x1 - x0);\n",
       "    var height = Math.abs(y1 - y0);\n",
       "\n",
       "    fig.rubberband_context.clearRect(\n",
       "        0, 0, fig.canvas.width, fig.canvas.height);\n",
       "\n",
       "    fig.rubberband_context.strokeRect(min_x, min_y, width, height);\n",
       "}\n",
       "\n",
       "mpl.figure.prototype.handle_figure_label = function(fig, msg) {\n",
       "    // Updates the figure title.\n",
       "    fig.header.textContent = msg['label'];\n",
       "}\n",
       "\n",
       "mpl.figure.prototype.handle_cursor = function(fig, msg) {\n",
       "    var cursor = msg['cursor'];\n",
       "    switch(cursor)\n",
       "    {\n",
       "    case 0:\n",
       "        cursor = 'pointer';\n",
       "        break;\n",
       "    case 1:\n",
       "        cursor = 'default';\n",
       "        break;\n",
       "    case 2:\n",
       "        cursor = 'crosshair';\n",
       "        break;\n",
       "    case 3:\n",
       "        cursor = 'move';\n",
       "        break;\n",
       "    }\n",
       "    fig.rubberband_canvas.style.cursor = cursor;\n",
       "}\n",
       "\n",
       "mpl.figure.prototype.handle_message = function(fig, msg) {\n",
       "    fig.message.textContent = msg['message'];\n",
       "}\n",
       "\n",
       "mpl.figure.prototype.handle_draw = function(fig, msg) {\n",
       "    // Request the server to send over a new figure.\n",
       "    fig.send_draw_message();\n",
       "}\n",
       "\n",
       "mpl.figure.prototype.handle_image_mode = function(fig, msg) {\n",
       "    fig.image_mode = msg['mode'];\n",
       "}\n",
       "\n",
       "mpl.figure.prototype.updated_canvas_event = function() {\n",
       "    // Called whenever the canvas gets updated.\n",
       "    this.send_message(\"ack\", {});\n",
       "}\n",
       "\n",
       "// A function to construct a web socket function for onmessage handling.\n",
       "// Called in the figure constructor.\n",
       "mpl.figure.prototype._make_on_message_function = function(fig) {\n",
       "    return function socket_on_message(evt) {\n",
       "        if (evt.data instanceof Blob) {\n",
       "            /* FIXME: We get \"Resource interpreted as Image but\n",
       "             * transferred with MIME type text/plain:\" errors on\n",
       "             * Chrome.  But how to set the MIME type?  It doesn't seem\n",
       "             * to be part of the websocket stream */\n",
       "            evt.data.type = \"image/png\";\n",
       "\n",
       "            /* Free the memory for the previous frames */\n",
       "            if (fig.imageObj.src) {\n",
       "                (window.URL || window.webkitURL).revokeObjectURL(\n",
       "                    fig.imageObj.src);\n",
       "            }\n",
       "\n",
       "            fig.imageObj.src = (window.URL || window.webkitURL).createObjectURL(\n",
       "                evt.data);\n",
       "            fig.updated_canvas_event();\n",
       "            fig.waiting = false;\n",
       "            return;\n",
       "        }\n",
       "        else if (typeof evt.data === 'string' && evt.data.slice(0, 21) == \"data:image/png;base64\") {\n",
       "            fig.imageObj.src = evt.data;\n",
       "            fig.updated_canvas_event();\n",
       "            fig.waiting = false;\n",
       "            return;\n",
       "        }\n",
       "\n",
       "        var msg = JSON.parse(evt.data);\n",
       "        var msg_type = msg['type'];\n",
       "\n",
       "        // Call the  \"handle_{type}\" callback, which takes\n",
       "        // the figure and JSON message as its only arguments.\n",
       "        try {\n",
       "            var callback = fig[\"handle_\" + msg_type];\n",
       "        } catch (e) {\n",
       "            console.log(\"No handler for the '\" + msg_type + \"' message type: \", msg);\n",
       "            return;\n",
       "        }\n",
       "\n",
       "        if (callback) {\n",
       "            try {\n",
       "                // console.log(\"Handling '\" + msg_type + \"' message: \", msg);\n",
       "                callback(fig, msg);\n",
       "            } catch (e) {\n",
       "                console.log(\"Exception inside the 'handler_\" + msg_type + \"' callback:\", e, e.stack, msg);\n",
       "            }\n",
       "        }\n",
       "    };\n",
       "}\n",
       "\n",
       "// from http://stackoverflow.com/questions/1114465/getting-mouse-location-in-canvas\n",
       "mpl.findpos = function(e) {\n",
       "    //this section is from http://www.quirksmode.org/js/events_properties.html\n",
       "    var targ;\n",
       "    if (!e)\n",
       "        e = window.event;\n",
       "    if (e.target)\n",
       "        targ = e.target;\n",
       "    else if (e.srcElement)\n",
       "        targ = e.srcElement;\n",
       "    if (targ.nodeType == 3) // defeat Safari bug\n",
       "        targ = targ.parentNode;\n",
       "\n",
       "    // jQuery normalizes the pageX and pageY\n",
       "    // pageX,Y are the mouse positions relative to the document\n",
       "    // offset() returns the position of the element relative to the document\n",
       "    var x = e.pageX - $(targ).offset().left;\n",
       "    var y = e.pageY - $(targ).offset().top;\n",
       "\n",
       "    return {\"x\": x, \"y\": y};\n",
       "};\n",
       "\n",
       "/*\n",
       " * return a copy of an object with only non-object keys\n",
       " * we need this to avoid circular references\n",
       " * http://stackoverflow.com/a/24161582/3208463\n",
       " */\n",
       "function simpleKeys (original) {\n",
       "  return Object.keys(original).reduce(function (obj, key) {\n",
       "    if (typeof original[key] !== 'object')\n",
       "        obj[key] = original[key]\n",
       "    return obj;\n",
       "  }, {});\n",
       "}\n",
       "\n",
       "mpl.figure.prototype.mouse_event = function(event, name) {\n",
       "    var canvas_pos = mpl.findpos(event)\n",
       "\n",
       "    if (name === 'button_press')\n",
       "    {\n",
       "        this.canvas.focus();\n",
       "        this.canvas_div.focus();\n",
       "    }\n",
       "\n",
       "    var x = canvas_pos.x * mpl.ratio;\n",
       "    var y = canvas_pos.y * mpl.ratio;\n",
       "\n",
       "    this.send_message(name, {x: x, y: y, button: event.button,\n",
       "                             step: event.step,\n",
       "                             guiEvent: simpleKeys(event)});\n",
       "\n",
       "    /* This prevents the web browser from automatically changing to\n",
       "     * the text insertion cursor when the button is pressed.  We want\n",
       "     * to control all of the cursor setting manually through the\n",
       "     * 'cursor' event from matplotlib */\n",
       "    event.preventDefault();\n",
       "    return false;\n",
       "}\n",
       "\n",
       "mpl.figure.prototype._key_event_extra = function(event, name) {\n",
       "    // Handle any extra behaviour associated with a key event\n",
       "}\n",
       "\n",
       "mpl.figure.prototype.key_event = function(event, name) {\n",
       "\n",
       "    // Prevent repeat events\n",
       "    if (name == 'key_press')\n",
       "    {\n",
       "        if (event.which === this._key)\n",
       "            return;\n",
       "        else\n",
       "            this._key = event.which;\n",
       "    }\n",
       "    if (name == 'key_release')\n",
       "        this._key = null;\n",
       "\n",
       "    var value = '';\n",
       "    if (event.ctrlKey && event.which != 17)\n",
       "        value += \"ctrl+\";\n",
       "    if (event.altKey && event.which != 18)\n",
       "        value += \"alt+\";\n",
       "    if (event.shiftKey && event.which != 16)\n",
       "        value += \"shift+\";\n",
       "\n",
       "    value += 'k';\n",
       "    value += event.which.toString();\n",
       "\n",
       "    this._key_event_extra(event, name);\n",
       "\n",
       "    this.send_message(name, {key: value,\n",
       "                             guiEvent: simpleKeys(event)});\n",
       "    return false;\n",
       "}\n",
       "\n",
       "mpl.figure.prototype.toolbar_button_onclick = function(name) {\n",
       "    if (name == 'download') {\n",
       "        this.handle_save(this, null);\n",
       "    } else {\n",
       "        this.send_message(\"toolbar_button\", {name: name});\n",
       "    }\n",
       "};\n",
       "\n",
       "mpl.figure.prototype.toolbar_button_onmouseover = function(tooltip) {\n",
       "    this.message.textContent = tooltip;\n",
       "};\n",
       "mpl.toolbar_items = [[\"Home\", \"Reset original view\", \"fa fa-home icon-home\", \"home\"], [\"Back\", \"Back to  previous view\", \"fa fa-arrow-left icon-arrow-left\", \"back\"], [\"Forward\", \"Forward to next view\", \"fa fa-arrow-right icon-arrow-right\", \"forward\"], [\"\", \"\", \"\", \"\"], [\"Pan\", \"Pan axes with left mouse, zoom with right\", \"fa fa-arrows icon-move\", \"pan\"], [\"Zoom\", \"Zoom to rectangle\", \"fa fa-square-o icon-check-empty\", \"zoom\"], [\"\", \"\", \"\", \"\"], [\"Download\", \"Download plot\", \"fa fa-floppy-o icon-save\", \"download\"]];\n",
       "\n",
       "mpl.extensions = [\"eps\", \"jpeg\", \"pdf\", \"png\", \"ps\", \"raw\", \"svg\", \"tif\"];\n",
       "\n",
       "mpl.default_extension = \"png\";var comm_websocket_adapter = function(comm) {\n",
       "    // Create a \"websocket\"-like object which calls the given IPython comm\n",
       "    // object with the appropriate methods. Currently this is a non binary\n",
       "    // socket, so there is still some room for performance tuning.\n",
       "    var ws = {};\n",
       "\n",
       "    ws.close = function() {\n",
       "        comm.close()\n",
       "    };\n",
       "    ws.send = function(m) {\n",
       "        //console.log('sending', m);\n",
       "        comm.send(m);\n",
       "    };\n",
       "    // Register the callback with on_msg.\n",
       "    comm.on_msg(function(msg) {\n",
       "        //console.log('receiving', msg['content']['data'], msg);\n",
       "        // Pass the mpl event to the overriden (by mpl) onmessage function.\n",
       "        ws.onmessage(msg['content']['data'])\n",
       "    });\n",
       "    return ws;\n",
       "}\n",
       "\n",
       "mpl.mpl_figure_comm = function(comm, msg) {\n",
       "    // This is the function which gets called when the mpl process\n",
       "    // starts-up an IPython Comm through the \"matplotlib\" channel.\n",
       "\n",
       "    var id = msg.content.data.id;\n",
       "    // Get hold of the div created by the display call when the Comm\n",
       "    // socket was opened in Python.\n",
       "    var element = $(\"#\" + id);\n",
       "    var ws_proxy = comm_websocket_adapter(comm)\n",
       "\n",
       "    function ondownload(figure, format) {\n",
       "        window.open(figure.imageObj.src);\n",
       "    }\n",
       "\n",
       "    var fig = new mpl.figure(id, ws_proxy,\n",
       "                           ondownload,\n",
       "                           element.get(0));\n",
       "\n",
       "    // Call onopen now - mpl needs it, as it is assuming we've passed it a real\n",
       "    // web socket which is closed, not our websocket->open comm proxy.\n",
       "    ws_proxy.onopen();\n",
       "\n",
       "    fig.parent_element = element.get(0);\n",
       "    fig.cell_info = mpl.find_output_cell(\"<div id='\" + id + \"'></div>\");\n",
       "    if (!fig.cell_info) {\n",
       "        console.error(\"Failed to find cell for figure\", id, fig);\n",
       "        return;\n",
       "    }\n",
       "\n",
       "    var output_index = fig.cell_info[2]\n",
       "    var cell = fig.cell_info[0];\n",
       "\n",
       "};\n",
       "\n",
       "mpl.figure.prototype.handle_close = function(fig, msg) {\n",
       "    var width = fig.canvas.width/mpl.ratio\n",
       "    fig.root.unbind('remove')\n",
       "\n",
       "    // Update the output cell to use the data from the current canvas.\n",
       "    fig.push_to_output();\n",
       "    var dataURL = fig.canvas.toDataURL();\n",
       "    // Re-enable the keyboard manager in IPython - without this line, in FF,\n",
       "    // the notebook keyboard shortcuts fail.\n",
       "    IPython.keyboard_manager.enable()\n",
       "    $(fig.parent_element).html('<img src=\"' + dataURL + '\" width=\"' + width + '\">');\n",
       "    fig.close_ws(fig, msg);\n",
       "}\n",
       "\n",
       "mpl.figure.prototype.close_ws = function(fig, msg){\n",
       "    fig.send_message('closing', msg);\n",
       "    // fig.ws.close()\n",
       "}\n",
       "\n",
       "mpl.figure.prototype.push_to_output = function(remove_interactive) {\n",
       "    // Turn the data on the canvas into data in the output cell.\n",
       "    var width = this.canvas.width/mpl.ratio\n",
       "    var dataURL = this.canvas.toDataURL();\n",
       "    this.cell_info[1]['text/html'] = '<img src=\"' + dataURL + '\" width=\"' + width + '\">';\n",
       "}\n",
       "\n",
       "mpl.figure.prototype.updated_canvas_event = function() {\n",
       "    // Tell IPython that the notebook contents must change.\n",
       "    IPython.notebook.set_dirty(true);\n",
       "    this.send_message(\"ack\", {});\n",
       "    var fig = this;\n",
       "    // Wait a second, then push the new image to the DOM so\n",
       "    // that it is saved nicely (might be nice to debounce this).\n",
       "    setTimeout(function () { fig.push_to_output() }, 1000);\n",
       "}\n",
       "\n",
       "mpl.figure.prototype._init_toolbar = function() {\n",
       "    var fig = this;\n",
       "\n",
       "    var nav_element = $('<div/>')\n",
       "    nav_element.attr('style', 'width: 100%');\n",
       "    this.root.append(nav_element);\n",
       "\n",
       "    // Define a callback function for later on.\n",
       "    function toolbar_event(event) {\n",
       "        return fig.toolbar_button_onclick(event['data']);\n",
       "    }\n",
       "    function toolbar_mouse_event(event) {\n",
       "        return fig.toolbar_button_onmouseover(event['data']);\n",
       "    }\n",
       "\n",
       "    for(var toolbar_ind in mpl.toolbar_items){\n",
       "        var name = mpl.toolbar_items[toolbar_ind][0];\n",
       "        var tooltip = mpl.toolbar_items[toolbar_ind][1];\n",
       "        var image = mpl.toolbar_items[toolbar_ind][2];\n",
       "        var method_name = mpl.toolbar_items[toolbar_ind][3];\n",
       "\n",
       "        if (!name) { continue; };\n",
       "\n",
       "        var button = $('<button class=\"btn btn-default\" href=\"#\" title=\"' + name + '\"><i class=\"fa ' + image + ' fa-lg\"></i></button>');\n",
       "        button.click(method_name, toolbar_event);\n",
       "        button.mouseover(tooltip, toolbar_mouse_event);\n",
       "        nav_element.append(button);\n",
       "    }\n",
       "\n",
       "    // Add the status bar.\n",
       "    var status_bar = $('<span class=\"mpl-message\" style=\"text-align:right; float: right;\"/>');\n",
       "    nav_element.append(status_bar);\n",
       "    this.message = status_bar[0];\n",
       "\n",
       "    // Add the close button to the window.\n",
       "    var buttongrp = $('<div class=\"btn-group inline pull-right\"></div>');\n",
       "    var button = $('<button class=\"btn btn-mini btn-primary\" href=\"#\" title=\"Stop Interaction\"><i class=\"fa fa-power-off icon-remove icon-large\"></i></button>');\n",
       "    button.click(function (evt) { fig.handle_close(fig, {}); } );\n",
       "    button.mouseover('Stop Interaction', toolbar_mouse_event);\n",
       "    buttongrp.append(button);\n",
       "    var titlebar = this.root.find($('.ui-dialog-titlebar'));\n",
       "    titlebar.prepend(buttongrp);\n",
       "}\n",
       "\n",
       "mpl.figure.prototype._root_extra_style = function(el){\n",
       "    var fig = this\n",
       "    el.on(\"remove\", function(){\n",
       "\tfig.close_ws(fig, {});\n",
       "    });\n",
       "}\n",
       "\n",
       "mpl.figure.prototype._canvas_extra_style = function(el){\n",
       "    // this is important to make the div 'focusable\n",
       "    el.attr('tabindex', 0)\n",
       "    // reach out to IPython and tell the keyboard manager to turn it's self\n",
       "    // off when our div gets focus\n",
       "\n",
       "    // location in version 3\n",
       "    if (IPython.notebook.keyboard_manager) {\n",
       "        IPython.notebook.keyboard_manager.register_events(el);\n",
       "    }\n",
       "    else {\n",
       "        // location in version 2\n",
       "        IPython.keyboard_manager.register_events(el);\n",
       "    }\n",
       "\n",
       "}\n",
       "\n",
       "mpl.figure.prototype._key_event_extra = function(event, name) {\n",
       "    var manager = IPython.notebook.keyboard_manager;\n",
       "    if (!manager)\n",
       "        manager = IPython.keyboard_manager;\n",
       "\n",
       "    // Check for shift+enter\n",
       "    if (event.shiftKey && event.which == 13) {\n",
       "        this.canvas_div.blur();\n",
       "        // select the cell after this one\n",
       "        var index = IPython.notebook.find_cell_index(this.cell_info[0]);\n",
       "        IPython.notebook.select(index + 1);\n",
       "    }\n",
       "}\n",
       "\n",
       "mpl.figure.prototype.handle_save = function(fig, msg) {\n",
       "    fig.ondownload(fig, null);\n",
       "}\n",
       "\n",
       "\n",
       "mpl.find_output_cell = function(html_output) {\n",
       "    // Return the cell and output element which can be found *uniquely* in the notebook.\n",
       "    // Note - this is a bit hacky, but it is done because the \"notebook_saving.Notebook\"\n",
       "    // IPython event is triggered only after the cells have been serialised, which for\n",
       "    // our purposes (turning an active figure into a static one), is too late.\n",
       "    var cells = IPython.notebook.get_cells();\n",
       "    var ncells = cells.length;\n",
       "    for (var i=0; i<ncells; i++) {\n",
       "        var cell = cells[i];\n",
       "        if (cell.cell_type === 'code'){\n",
       "            for (var j=0; j<cell.output_area.outputs.length; j++) {\n",
       "                var data = cell.output_area.outputs[j];\n",
       "                if (data.data) {\n",
       "                    // IPython >= 3 moved mimebundle to data attribute of output\n",
       "                    data = data.data;\n",
       "                }\n",
       "                if (data['text/html'] == html_output) {\n",
       "                    return [cell, data, j];\n",
       "                }\n",
       "            }\n",
       "        }\n",
       "    }\n",
       "}\n",
       "\n",
       "// Register the function which deals with the matplotlib target/channel.\n",
       "// The kernel may be null if the page has been refreshed.\n",
       "if (IPython.notebook.kernel != null) {\n",
       "    IPython.notebook.kernel.comm_manager.register_target('matplotlib', mpl.mpl_figure_comm);\n",
       "}\n"
      ],
      "text/plain": [
       "<IPython.core.display.Javascript object>"
      ]
     },
     "metadata": {},
     "output_type": "display_data"
    },
    {
     "data": {
      "text/html": [
       "<img src=\"data:image/png;base64,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\" width=\"640\">"
      ],
      "text/plain": [
       "<IPython.core.display.HTML object>"
      ]
     },
     "metadata": {},
     "output_type": "display_data"
    }
   ],
   "source": [
    "plt.clf()\n",
    "ax = plt.gca()\n",
    "ax.plot(spec['Amp'])\n",
    "plt.show()"
   ]
  },
  {
   "cell_type": "markdown",
   "metadata": {},
   "source": [
    "## Find lines"
   ]
  },
  {
   "cell_type": "code",
   "execution_count": 7,
   "metadata": {
    "collapsed": true
   },
   "outputs": [],
   "source": [
    "min_ampl = 500."
   ]
  },
  {
   "cell_type": "code",
   "execution_count": 8,
   "metadata": {},
   "outputs": [],
   "source": [
    "all_tcent, cut_tcent, icut = arch_utils.arc_lines_from_spec(spec['Amp'], min_ampl=min_ampl)"
   ]
  },
  {
   "cell_type": "code",
   "execution_count": 9,
   "metadata": {},
   "outputs": [
    {
     "data": {
      "text/plain": [
       "array([   68.99142359,   113.48331851,   239.37516074,   415.3317666 ,\n",
       "         561.32906692,   571.4645097 ,   735.24455602,   780.23724842,\n",
       "         860.25902988,   889.1886349 ,  1122.02057338,  1233.21023743,\n",
       "        1254.7408401 ,  1276.79906003,  1306.53440798,  1347.87368539,\n",
       "        1495.30609497,  1559.73518558,  1770.19471548,  1933.19923538,\n",
       "        1984.32214665,  2142.13108391,  2246.98274251,  2277.74515521,\n",
       "        2426.21385446,  2529.88725955,  2560.32290983,  2640.91841529,\n",
       "        2729.05229192,  2826.81866458,  2896.04982037,  2935.71643307,\n",
       "        2990.36535694,  2991.85466797,  3019.11399274,  3190.94510642,\n",
       "        3233.73309295,  3341.9039537 ,  3441.02536686,  3476.84564742,\n",
       "        3543.86343013,  3562.84813516,  3677.80619477,  3764.9293156 ,\n",
       "        3934.17396581,  4076.70413285,  4231.68877775,  4323.93317141,\n",
       "        4371.71976891,  4493.72616805,  4546.24674055,  4568.41314314])"
      ]
     },
     "execution_count": 9,
     "metadata": {},
     "output_type": "execute_result"
    }
   ],
   "source": [
    "cut_tcent"
   ]
  },
  {
   "cell_type": "markdown",
   "metadata": {},
   "source": [
    "## Line list\n",
    "    wave_no is in Vacuum\n",
    "    wavelength is in Air"
   ]
  },
  {
   "cell_type": "code",
   "execution_count": 10,
   "metadata": {},
   "outputs": [
    {
     "data": {
      "text/html": [
       "&lt;Table length=5&gt;\n",
       "<table id=\"table140513540698296\" class=\"table-striped table-bordered table-condensed\">\n",
       "<thead><tr><th>Wave_no.</th><th>wave</th><th>log(I)</th><th>Elm</th><th>ion</th><th>Reference</th></tr></thead>\n",
       "<thead><tr><th>float64</th><th>float64</th><th>float64</th><th>str2</th><th>str3</th><th>str1</th></tr></thead>\n",
       "<tr><td>33322.4046</td><td>3000.109256</td><td>0.45</td><td>Ar</td><td>II</td><td>W</td></tr>\n",
       "<tr><td>33319.9704</td><td>3000.328442</td><td>-0.007</td><td>XX</td><td>0</td><td>P</td></tr>\n",
       "<tr><td>33318.6726</td><td>3000.44531</td><td>1.22</td><td>Ar</td><td>II</td><td>W</td></tr>\n",
       "<tr><td>33313.404</td><td>3000.919858</td><td>0.297</td><td>Th</td><td>II</td><td>P</td></tr>\n",
       "<tr><td>33312.8136</td><td>3000.973041</td><td>0.026</td><td>XX</td><td>0</td><td>P</td></tr>\n",
       "</table>"
      ],
      "text/plain": [
       "<Table length=5>\n",
       " Wave_no.      wave     log(I) Elm  ion  Reference\n",
       " float64     float64   float64 str2 str3    str1  \n",
       "---------- ----------- ------- ---- ---- ---------\n",
       "33322.4046 3000.109256    0.45   Ar   II         W\n",
       "33319.9704 3000.328442  -0.007   XX    0         P\n",
       "33318.6726  3000.44531    1.22   Ar   II         W\n",
       " 33313.404 3000.919858   0.297   Th   II         P\n",
       "33312.8136 3000.973041   0.026   XX    0         P"
      ]
     },
     "execution_count": 10,
     "metadata": {},
     "output_type": "execute_result"
    }
   ],
   "source": [
    "# Original\n",
    "orig_thar = Table.read('arclist.ThAr', format='ascii')\n",
    "orig_thar[0:5]"
   ]
  },
  {
   "cell_type": "code",
   "execution_count": 11,
   "metadata": {
    "collapsed": true
   },
   "outputs": [],
   "source": [
    "# New\n",
    "thar = Table.read('ThAr_allfitted.dat', format='ascii')"
   ]
  },
  {
   "cell_type": "code",
   "execution_count": 13,
   "metadata": {},
   "outputs": [
    {
     "data": {
      "text/plain": [
       "array([ 3007.98872706,  3009.25940198,  3009.99183094])"
      ]
     },
     "execution_count": 13,
     "metadata": {},
     "output_type": "execute_result"
    }
   ],
   "source": [
    "wvdata = thar['wave'].data\n",
    "wvdata[0:3]"
   ]
  },
  {
   "cell_type": "markdown",
   "metadata": {},
   "source": [
    "## Start guessing"
   ]
  },
  {
   "cell_type": "code",
   "execution_count": 14,
   "metadata": {},
   "outputs": [],
   "source": [
    "best_dict = dict(nmatch=0, ibest=-1, bwv=0., min_ampl=min_ampl)"
   ]
  },
  {
   "cell_type": "code",
   "execution_count": 15,
   "metadata": {
    "collapsed": true
   },
   "outputs": [],
   "source": [
    "pix_tol = 1."
   ]
  },
  {
   "cell_type": "code",
   "execution_count": 16,
   "metadata": {
    "collapsed": true
   },
   "outputs": [],
   "source": [
    "disp = 0.0207737  # Ang"
   ]
  },
  {
   "cell_type": "code",
   "execution_count": 17,
   "metadata": {
    "collapsed": true
   },
   "outputs": [],
   "source": [
    "wv_cen = 5000."
   ]
  },
  {
   "cell_type": "code",
   "execution_count": 18,
   "metadata": {},
   "outputs": [
    {
     "data": {
      "text/plain": [
       "{'IDs': [0.0,\n",
       "  0.0,\n",
       "  0.0,\n",
       "  0.0,\n",
       "  4965.7297186655569,\n",
       "  0.0,\n",
       "  0.0,\n",
       "  0.0,\n",
       "  0.0,\n",
       "  0.0,\n",
       "  0.0,\n",
       "  0.0,\n",
       "  0.0,\n",
       "  0.0,\n",
       "  0.0,\n",
       "  0.0,\n",
       "  4979.3239058430172,\n",
       "  4980.9425952179508,\n",
       "  0.0,\n",
       "  4990.0198278453372,\n",
       "  4991.2053814187411,\n",
       "  0.0,\n",
       "  0.0,\n",
       "  0.0,\n",
       "  0.0,\n",
       "  0.0,\n",
       "  0.0,\n",
       "  0.0,\n",
       "  0.0,\n",
       "  0.0,\n",
       "  0.0,\n",
       "  0.0,\n",
       "  0.0,\n",
       "  0.0,\n",
       "  0.0,\n",
       "  0.0,\n",
       "  0.0,\n",
       "  0.0,\n",
       "  0.0,\n",
       "  0.0,\n",
       "  0.0,\n",
       "  0.0,\n",
       "  0.0,\n",
       "  0.0,\n",
       "  0.0,\n",
       "  0.0,\n",
       "  0.0,\n",
       "  0.0,\n",
       "  0.0,\n",
       "  0.0,\n",
       "  0.0,\n",
       "  0.0],\n",
       " 'ampl': None,\n",
       " 'bwv': 5004.0,\n",
       " 'ibest': 13,\n",
       " 'mask': array([False, False, False, False,  True, False, False, False, False,\n",
       "        False, False, False, False, False, False, False,  True,  True,\n",
       "        False,  True,  True, False, False, False, False, False, False,\n",
       "        False, False, False, False, False, False, False, False, False,\n",
       "        False, False, False, False, False, False, False, False, False,\n",
       "        False, False, False, False, False, False, False], dtype=bool),\n",
       " 'midx': {0: {'matches': [1673, 1673, 1671, 1673]},\n",
       "  1: {'matches': [1674, 1672, 1674, 1674, 1680]},\n",
       "  2: {'matches': [1676, 1674, 1676, 1676, 1684]},\n",
       "  3: {'matches': [1679, 1679, 1679, 1687, 1675]},\n",
       "  4: {'matches': [1681, 1681, 1679, 1681, 1681, 1690]},\n",
       "  5: {'matches': [1678, 1692]},\n",
       "  6: {'matches': [1680]},\n",
       "  7: {'matches': [1681, 1697, 1692]},\n",
       "  8: {'matches': [1698, 1693]},\n",
       "  9: {'matches': [1699, 1694, 1688]},\n",
       "  10: {'matches': [1692]},\n",
       "  11: {'matches': [1701, 1693]},\n",
       "  12: {'matches': []},\n",
       "  13: {'matches': [1694, 1689]},\n",
       "  14: {'matches': [1690, 1690]},\n",
       "  15: {'matches': [1691, 1691, 1690]},\n",
       "  16: {'matches': [1693, 1693, 1693, 1693]},\n",
       "  17: {'matches': [1695, 1695, 1695, 1695, 1695]},\n",
       "  18: {'matches': [1699, 1700, 1700]},\n",
       "  19: {'matches': [1703, 1703, 1703]},\n",
       "  20: {'matches': [1704, 1704, 1704]},\n",
       "  21: {'matches': []},\n",
       "  22: {'matches': []},\n",
       "  23: {'matches': []},\n",
       "  24: {'matches': []},\n",
       "  25: {'matches': []},\n",
       "  26: {'matches': []},\n",
       "  27: {'matches': []},\n",
       "  28: {'matches': []},\n",
       "  29: {'matches': []},\n",
       "  30: {'matches': []},\n",
       "  31: {'matches': []},\n",
       "  32: {'matches': []},\n",
       "  33: {'matches': [1723]},\n",
       "  34: {'matches': [1720, 1726, 1730, 1718, 1722, 1723]},\n",
       "  35: {'matches': [1726, 1722, 1724, 1725, 1726, 1728]},\n",
       "  36: {'matches': [1727, 1724, 1729, 1734, 1723, 1725, 1726, 1727, 1729]},\n",
       "  37: {'matches': [1728, 1727, 1731, 1736, 1728, 1731]},\n",
       "  38: {'matches': [1728, 1732, 1739, 1726, 1728, 1729, 1732]},\n",
       "  39: {'matches': [1731]},\n",
       "  40: {'matches': []},\n",
       "  41: {'matches': []},\n",
       "  42: {'matches': []},\n",
       "  43: {'matches': [1734]},\n",
       "  44: {'matches': [1737]},\n",
       "  45: {'matches': [1741]},\n",
       "  46: {'matches': []},\n",
       "  47: {'matches': [1743]},\n",
       "  48: {'matches': []},\n",
       "  49: {'matches': []},\n",
       "  50: {'matches': []},\n",
       "  51: {'matches': []}},\n",
       " 'min_ampl': 500.0,\n",
       " 'nmatch': 5,\n",
       " 'pix_tol': 1.0,\n",
       " 'scores': array(['OK', 'Amb', 'Amb', 'Amb', 'Good', 'Amb', 'Amb', 'Amb', 'Amb',\n",
       "        'Amb', 'Amb', 'Amb', 'None', 'Amb', 'Risk', 'Amb', 'Perf', 'Perf',\n",
       "        'Amb', 'Good', 'Good', 'None', 'None', 'None', 'None', 'None',\n",
       "        'None', 'None', 'None', 'None', 'None', 'None', 'None', 'Amb',\n",
       "        'Amb', 'Amb', 'Amb', 'Amb', 'Amb', 'Amb', 'None', 'None', 'None',\n",
       "        'Amb', 'Amb', 'Amb', 'None', 'Amb', 'None', 'None', 'None', 'None'], \n",
       "       dtype='<U4'),\n",
       " 'swv_uncertainty': 10.0,\n",
       " 'wvoff': 100.0}"
      ]
     },
     "execution_count": 18,
     "metadata": {},
     "output_type": "execute_result"
    }
   ],
   "source": [
    "reload(arch_patt)\n",
    "arch_patt.scan_for_matches(wv_cen, disp, npix, cut_tcent, wvdata,\n",
    "                                      best_dict=best_dict, pix_tol=pix_tol, \n",
    "                           swv_uncertainty=10.,wvoff=100.)\n",
    "best_dict"
   ]
  },
  {
   "cell_type": "markdown",
   "metadata": {},
   "source": [
    "## Loop me"
   ]
  },
  {
   "cell_type": "code",
   "execution_count": 19,
   "metadata": {},
   "outputs": [
    {
     "data": {
      "text/plain": [
       "array([ 4500.,  4600.,  4700.,  4800.,  4900.,  5000.,  5100.,  5200.,\n",
       "        5300.,  5400.,  5500.,  5600.,  5700.,  5800.,  5900.,  6000.,\n",
       "        6100.,  6200.,  6300.,  6400.,  6500.,  6600.,  6700.,  6800.,\n",
       "        6900.,  7000.,  7100.,  7200.,  7300.,  7400.,  7500.,  7600.,\n",
       "        7700.,  7800.,  7900.])"
      ]
     },
     "execution_count": 19,
     "metadata": {},
     "output_type": "execute_result"
    }
   ],
   "source": [
    "wvcens = np.arange(4500., 8000., 100)\n",
    "wvcens"
   ]
  },
  {
   "cell_type": "code",
   "execution_count": 20,
   "metadata": {},
   "outputs": [
    {
     "name": "stdout",
     "output_type": "stream",
     "text": [
      "Working on wvcen=4500.000000\n",
      "Nmatch = 5\n",
      "Working on wvcen=4600.000000\n",
      "Nmatch = 6\n",
      "Working on wvcen=4700.000000\n",
      "Nmatch = 6\n",
      "Working on wvcen=4800.000000\n",
      "Nmatch = 6\n",
      "Working on wvcen=4900.000000\n",
      "Nmatch = 6\n",
      "Working on wvcen=5000.000000\n",
      "Nmatch = 6\n",
      "Working on wvcen=5100.000000\n",
      "Nmatch = 6\n",
      "Working on wvcen=5200.000000\n",
      "Nmatch = 6\n",
      "Working on wvcen=5300.000000\n",
      "Nmatch = 6\n",
      "Working on wvcen=5400.000000\n",
      "Nmatch = 6\n",
      "Working on wvcen=5500.000000\n",
      "Nmatch = 7\n",
      "Working on wvcen=5600.000000\n",
      "Nmatch = 7\n",
      "Working on wvcen=5700.000000\n",
      "Nmatch = 7\n",
      "Working on wvcen=5800.000000\n",
      "Nmatch = 7\n",
      "Working on wvcen=5900.000000\n",
      "Nmatch = 7\n",
      "Working on wvcen=6000.000000\n",
      "Nmatch = 7\n",
      "Working on wvcen=6100.000000\n",
      "Nmatch = 7\n",
      "Working on wvcen=6200.000000\n",
      "Nmatch = 7\n",
      "Working on wvcen=6300.000000\n",
      "Nmatch = 7\n",
      "Working on wvcen=6400.000000\n",
      "Nmatch = 7\n",
      "Working on wvcen=6500.000000\n",
      "Nmatch = 7\n",
      "Working on wvcen=6600.000000\n",
      "Nmatch = 7\n",
      "Working on wvcen=6700.000000\n",
      "Nmatch = 7\n",
      "Working on wvcen=6800.000000\n",
      "Nmatch = 7\n",
      "Working on wvcen=6900.000000\n",
      "Nmatch = 7\n",
      "Working on wvcen=7000.000000\n",
      "Nmatch = 7\n",
      "Working on wvcen=7100.000000\n",
      "Nmatch = 7\n",
      "Working on wvcen=7200.000000\n",
      "Nmatch = 7\n",
      "Working on wvcen=7300.000000\n",
      "Nmatch = 7\n",
      "Working on wvcen=7400.000000\n",
      "Nmatch = 7\n",
      "Working on wvcen=7500.000000\n",
      "Nmatch = 7\n",
      "Working on wvcen=7600.000000\n",
      "Nmatch = 7\n",
      "Working on wvcen=7700.000000\n",
      "Nmatch = 7\n",
      "Working on wvcen=7800.000000\n",
      "Nmatch = 7\n",
      "Working on wvcen=7900.000000\n",
      "Nmatch = 7\n"
     ]
    }
   ],
   "source": [
    "best_dict = dict(nmatch=0, ibest=-1, bwv=0., min_ampl=min_ampl)\n",
    "for iwvcen in wvcens:\n",
    "    print(\"Working on wvcen={:f}\".format(iwvcen))\n",
    "    arch_patt.scan_for_matches(iwvcen, disp, npix, cut_tcent, wvdata,\n",
    "                                      best_dict=best_dict, pix_tol=pix_tol, \n",
    "                           swv_uncertainty=10.,wvoff=100.)\n",
    "    print(\"Nmatch = {:d}\".format(best_dict['nmatch']))"
   ]
  },
  {
   "cell_type": "code",
   "execution_count": 21,
   "metadata": {},
   "outputs": [
    {
     "data": {
      "text/plain": [
       "5480.0"
      ]
     },
     "execution_count": 21,
     "metadata": {},
     "output_type": "execute_result"
    }
   ],
   "source": [
    "best_dict['bwv']"
   ]
  },
  {
   "cell_type": "markdown",
   "metadata": {},
   "source": [
    "## Refine?!"
   ]
  },
  {
   "cell_type": "code",
   "execution_count": 22,
   "metadata": {},
   "outputs": [
    {
     "data": {
      "text/plain": [
       "5"
      ]
     },
     "execution_count": 22,
     "metadata": {},
     "output_type": "execute_result"
    }
   ],
   "source": [
    "pix_tol = 1.\n",
    "best_dict = dict(nmatch=0, ibest=-1, bwv=0., min_ampl=min_ampl)\n",
    "arch_patt.scan_for_matches(5200., disp, npix, cut_tcent, wvdata,\n",
    "                                      best_dict=best_dict, pix_tol=pix_tol, \n",
    "                           swv_uncertainty=10.,wvoff=100.)\n",
    "best_dict['nmatch']"
   ]
  },
  {
   "cell_type": "code",
   "execution_count": 23,
   "metadata": {},
   "outputs": [
    {
     "data": {
      "text/plain": [
       "array(['Amb', 'Amb', 'Amb', 'Amb', 'Amb', 'Amb', 'Amb', 'Amb', 'Amb',\n",
       "       'Amb', 'Amb', 'None', 'None', 'None', 'Amb', 'Amb', 'Amb', 'Amb',\n",
       "       'Amb', 'Amb', 'Amb', 'Amb', 'Amb', 'Amb', 'Risk', 'Amb', 'None',\n",
       "       'None', 'None', 'None', 'None', 'None', 'None', 'None', 'Perf',\n",
       "       'Perf', 'Perf', 'Perf', 'Perf', 'Amb', 'None', 'Amb', 'Amb', 'Amb',\n",
       "       'Amb', 'Amb', 'Amb', 'Amb', 'None', 'None', 'None', 'None'], \n",
       "      dtype='<U4')"
      ]
     },
     "execution_count": 23,
     "metadata": {},
     "output_type": "execute_result"
    }
   ],
   "source": [
    "best_dict['scores']"
   ]
  },
  {
   "cell_type": "code",
   "execution_count": 24,
   "metadata": {},
   "outputs": [
    {
     "data": {
      "text/plain": [
       "5252.0"
      ]
     },
     "execution_count": 24,
     "metadata": {},
     "output_type": "execute_result"
    }
   ],
   "source": [
    "best_dict['bwv']"
   ]
  },
  {
   "cell_type": "markdown",
   "metadata": {},
   "source": [
    "## RC tells me central wavelength is close to 6000A\n",
    "    Have cheated.  Answer is ~6060A"
   ]
  },
  {
   "cell_type": "code",
   "execution_count": 25,
   "metadata": {},
   "outputs": [
    {
     "data": {
      "text/plain": [
       "1"
      ]
     },
     "execution_count": 25,
     "metadata": {},
     "output_type": "execute_result"
    }
   ],
   "source": [
    "pix_tol = 2.\n",
    "best_dict = dict(nmatch=0, ibest=-1, bwv=0., min_ampl=min_ampl)\n",
    "arch_patt.scan_for_matches(6060., disp, npix, cut_tcent, wvdata,\n",
    "                                      best_dict=best_dict, pix_tol=pix_tol, \n",
    "                           swv_uncertainty=10.,wvoff=10.)\n",
    "best_dict['nmatch']"
   ]
  },
  {
   "cell_type": "code",
   "execution_count": 26,
   "metadata": {},
   "outputs": [
    {
     "data": {
      "text/plain": [
       "array(['Amb', 'Amb', 'Amb', 'Amb', 'Amb', 'None', 'Amb', 'None', 'None',\n",
       "       'None', 'None', 'None', 'None', 'None', 'None', 'Amb', 'Amb', 'Amb',\n",
       "       'Good', 'Amb', 'Amb', 'Amb', 'Amb', 'Amb', 'Amb', 'Amb', 'Amb',\n",
       "       'None', 'Amb', 'Amb', 'Amb', 'None', 'None', 'None', 'None', 'None',\n",
       "       'None', 'None', 'None', 'None', 'None', 'None', 'None', 'Amb',\n",
       "       'Risk', 'None', 'Risk', 'Risk', 'Amb', 'None', 'None', 'None'], \n",
       "      dtype='<U4')"
      ]
     },
     "execution_count": 26,
     "metadata": {},
     "output_type": "execute_result"
    }
   ],
   "source": [
    "best_dict['scores']"
   ]
  },
  {
   "cell_type": "code",
   "execution_count": 27,
   "metadata": {
    "collapsed": true
   },
   "outputs": [],
   "source": [
    "IDs = np.array(best_dict['IDs'])"
   ]
  },
  {
   "cell_type": "code",
   "execution_count": 28,
   "metadata": {},
   "outputs": [],
   "source": [
    "gd =  IDs > 0."
   ]
  },
  {
   "cell_type": "code",
   "execution_count": 29,
   "metadata": {},
   "outputs": [
    {
     "data": {
      "text/plain": [
       "(array([ 1770.19471548]), array([ 6051.75747427]))"
      ]
     },
     "execution_count": 29,
     "metadata": {},
     "output_type": "execute_result"
    }
   ],
   "source": [
    "cut_tcent[gd], IDs[gd]"
   ]
  },
  {
   "cell_type": "code",
   "execution_count": 30,
   "metadata": {},
   "outputs": [
    {
     "data": {
      "text/plain": [
       "6058.0"
      ]
     },
     "execution_count": 30,
     "metadata": {},
     "output_type": "execute_result"
    }
   ],
   "source": [
    "best_dict['bwv']"
   ]
  },
  {
   "cell_type": "markdown",
   "metadata": {},
   "source": [
    "## Faux line list"
   ]
  },
  {
   "cell_type": "code",
   "execution_count": 31,
   "metadata": {},
   "outputs": [
    {
     "data": {
      "text/html": [
       "&lt;Table length=5&gt;\n",
       "<table id=\"table140513452017872\" class=\"table-striped table-bordered table-condensed\">\n",
       "<thead><tr><th>true_wv</th></tr></thead>\n",
       "<thead><tr><th>float64</th></tr></thead>\n",
       "<tr><td>6005.85253906</td></tr>\n",
       "<tr><td>6005.87792969</td></tr>\n",
       "<tr><td>6005.90380859</td></tr>\n",
       "<tr><td>6005.92919922</td></tr>\n",
       "<tr><td>6005.95507812</td></tr>\n",
       "</table>"
      ],
      "text/plain": [
       "<Table length=5>\n",
       "   true_wv   \n",
       "   float64   \n",
       "-------------\n",
       "6005.85253906\n",
       "6005.87792969\n",
       "6005.90380859\n",
       "6005.92919922\n",
       "6005.95507812"
      ]
     },
     "execution_count": 31,
     "metadata": {},
     "output_type": "execute_result"
    }
   ],
   "source": [
    "soln = Table.read('solution.dat', format='ascii')\n",
    "soln[0:5]"
   ]
  },
  {
   "cell_type": "code",
   "execution_count": 32,
   "metadata": {
    "collapsed": true
   },
   "outputs": [],
   "source": [
    "fsoln = interp1d(np.arange(npix), soln['true_wv'], kind='cubic')"
   ]
  },
  {
   "cell_type": "code",
   "execution_count": 33,
   "metadata": {},
   "outputs": [],
   "source": [
    "cheat_list = fsoln(cut_tcent)"
   ]
  },
  {
   "cell_type": "code",
   "execution_count": 34,
   "metadata": {},
   "outputs": [
    {
     "data": {
      "text/plain": [
       "array([ 6007.6164788 ,  6008.75011468,  6011.94050416,  6016.35591702,\n",
       "        6019.97875405,  6020.22863004,  6024.24322835,  6025.33772724,\n",
       "        6027.27373271,  6027.97081628,  6033.51903353,  6036.12939578,\n",
       "        6036.63208576,  6037.14621632,  6037.83696709,  6038.79443081,\n",
       "        6042.17981642,  6043.64438261,  6048.36516885,  6051.952637  ,\n",
       "        6053.06516403,  6056.4618218 ,  6058.68664382,  6059.33395691,\n",
       "        6062.42923925,  6064.55924001,  6065.17952081,  6066.81133103,\n",
       "        6068.57819992,  6070.51545733,  6071.87353165,  6072.64636467,\n",
       "        6073.70438663,  6073.73305075,  6074.25801114,  6077.52436082,\n",
       "        6078.32661461,  6080.33317145,  6082.14597433,  6082.79506297,\n",
       "        6084.00051509,  6084.34000328,  6086.37549951,  6087.89526262,\n",
       "        6090.79195958,  6093.17282992,  6095.70103988,  6097.17569417,\n",
       "        6097.93055817,  6099.8297229 ,  6100.63512803,  6100.97254826])"
      ]
     },
     "execution_count": 34,
     "metadata": {},
     "output_type": "execute_result"
    }
   ],
   "source": [
    "cheat_list"
   ]
  },
  {
   "cell_type": "code",
   "execution_count": 35,
   "metadata": {
    "collapsed": true
   },
   "outputs": [],
   "source": [
    "pix_tol = 1.\n",
    "best_dict = dict(nmatch=0, ibest=-1, bwv=0., min_ampl=min_ampl)\n",
    "arch_patt.scan_for_matches(6060., disp, npix, cut_tcent, cheat_list,\n",
    "                                      best_dict=best_dict, pix_tol=pix_tol, \n",
    "                           swv_uncertainty=10.,wvoff=10.)"
   ]
  },
  {
   "cell_type": "code",
   "execution_count": 36,
   "metadata": {},
   "outputs": [
    {
     "data": {
      "text/plain": [
       "41"
      ]
     },
     "execution_count": 36,
     "metadata": {},
     "output_type": "execute_result"
    }
   ],
   "source": [
    "best_dict['nmatch']"
   ]
  },
  {
   "cell_type": "code",
   "execution_count": 109,
   "metadata": {},
   "outputs": [
    {
     "data": {
      "text/plain": [
       "array(['None', 'None', 'Good', 'Perf', 'Perf', 'Perf', 'Perf', 'Perf',\n",
       "       'Perf', 'Perf', 'Perf', 'Perf', 'Perf', 'Perf', 'Perf', 'Perf',\n",
       "       'Perf', 'Perf', 'Amb', 'Perf', 'Perf', 'Perf', 'Perf', 'Perf',\n",
       "       'Perf', 'Perf', 'Perf', 'Perf', 'Perf', 'Perf', 'Good', 'Perf',\n",
       "       'Good', 'Good', 'Good', 'Perf', 'Perf', 'Perf', 'Perf', 'Perf',\n",
       "       'Perf', 'Perf', 'Good', 'Amb', 'Good', 'None', 'Amb', 'Risk',\n",
       "       'None', 'None', 'None', 'None'], \n",
       "      dtype='<U4')"
      ]
     },
     "execution_count": 109,
     "metadata": {},
     "output_type": "execute_result"
    }
   ],
   "source": [
    "best_dict['scores']"
   ]
  },
  {
   "cell_type": "markdown",
   "metadata": {
    "collapsed": true
   },
   "source": [
    "## Compare cheat to allfitted"
   ]
  },
  {
   "cell_type": "code",
   "execution_count": 37,
   "metadata": {},
   "outputs": [
    {
     "name": "stdout",
     "output_type": "stream",
     "text": [
      "Cheat=6007.616479, allfitted=6007.070557, diff=0.545921\n",
      "Cheat=6008.750115, allfitted=6009.139804, diff=-0.389690\n",
      "Cheat=6011.940504, allfitted=6011.344978, diff=0.595527\n",
      "Cheat=6016.355917, allfitted=6016.356192, diff=-0.000275\n",
      "Cheat=6019.978754, allfitted=6018.991382, diff=0.987372\n",
      "Cheat=6020.228630, allfitted=6018.991382, diff=1.237248\n",
      "Cheat=6024.243228, allfitted=6024.141853, diff=0.101375\n",
      "Cheat=6025.337727, allfitted=6025.777601, diff=-0.439874\n",
      "Cheat=6027.273733, allfitted=6027.242915, diff=0.030818\n",
      "Cheat=6027.970816, allfitted=6027.242915, diff=0.727901\n",
      "Cheat=6033.519034, allfitted=6031.875238, diff=1.643796\n",
      "Cheat=6036.129396, allfitted=6035.183836, diff=0.945559\n",
      "Cheat=6036.632086, allfitted=6037.690065, diff=-1.057979\n",
      "Cheat=6037.146216, allfitted=6037.690065, diff=-0.543849\n",
      "Cheat=6037.836967, allfitted=6037.690065, diff=0.146902\n",
      "Cheat=6038.794431, allfitted=6038.670633, diff=0.123798\n",
      "Cheat=6042.179816, allfitted=6041.604028, diff=0.575789\n",
      "Cheat=6043.644383, allfitted=6044.432300, diff=-0.787917\n",
      "Cheat=6048.365169, allfitted=6048.075958, diff=0.289211\n",
      "Cheat=6051.952637, allfitted=6051.757474, diff=0.195163\n",
      "Cheat=6053.065164, allfitted=6053.376628, diff=-0.311464\n",
      "Cheat=6056.461822, allfitted=6057.225342, diff=-0.763520\n",
      "Cheat=6058.686644, allfitted=6059.371731, diff=-0.685088\n",
      "Cheat=6059.333957, allfitted=6059.371731, diff=-0.037774\n",
      "Cheat=6062.429239, allfitted=6062.612059, diff=-0.182819\n",
      "Cheat=6064.559240, allfitted=6064.751126, diff=-0.191886\n",
      "Cheat=6065.179521, allfitted=6065.551513, diff=-0.371992\n",
      "Cheat=6066.811331, allfitted=6067.946269, diff=-1.134938\n",
      "Cheat=6068.578200, allfitted=6069.018580, diff=-0.440381\n",
      "Cheat=6070.515457, allfitted=6070.336005, diff=0.179453\n",
      "Cheat=6071.873532, allfitted=6072.034162, diff=-0.160630\n",
      "Cheat=6072.646365, allfitted=6073.099116, diff=-0.452752\n",
      "Cheat=6073.704387, allfitted=6073.099116, diff=0.605270\n",
      "Cheat=6073.733051, allfitted=6073.099116, diff=0.633934\n",
      "Cheat=6074.258011, allfitted=6073.099116, diff=1.158895\n",
      "Cheat=6077.524361, allfitted=6076.028762, diff=1.495599\n",
      "Cheat=6078.326615, allfitted=6080.177958, diff=-1.851344\n",
      "Cheat=6080.333171, allfitted=6080.177958, diff=0.155213\n",
      "Cheat=6082.145974, allfitted=6081.246876, diff=0.899098\n",
      "Cheat=6082.795063, allfitted=6081.246876, diff=1.548187\n",
      "Cheat=6084.000515, allfitted=6084.701150, diff=-0.700635\n",
      "Cheat=6084.340003, allfitted=6084.701150, diff=-0.361146\n",
      "Cheat=6086.375500, allfitted=6085.882568, diff=0.492932\n",
      "Cheat=6087.895263, allfitted=6088.680467, diff=-0.785204\n",
      "Cheat=6090.791960, allfitted=6089.545654, diff=1.246305\n",
      "Cheat=6093.172830, allfitted=6092.435259, diff=0.737571\n",
      "Cheat=6095.701040, allfitted=6096.139873, diff=-0.438833\n",
      "Cheat=6097.175694, allfitted=6097.066676, diff=0.109018\n",
      "Cheat=6097.930558, allfitted=6097.066676, diff=0.863882\n",
      "Cheat=6099.829723, allfitted=6099.987542, diff=-0.157819\n",
      "Cheat=6100.635128, allfitted=6099.987542, diff=0.647586\n",
      "Cheat=6100.972548, allfitted=6099.987542, diff=0.985007\n"
     ]
    }
   ],
   "source": [
    "for cheat in cheat_list:\n",
    "    imin = np.argmin(np.abs(cheat-wvdata))\n",
    "    print(\"Cheat={:f}, allfitted={:f}, diff={:f}\".format(cheat, wvdata[imin], cheat-wvdata[imin]))"
   ]
  },
  {
   "cell_type": "code",
   "execution_count": null,
   "metadata": {
    "collapsed": true
   },
   "outputs": [],
   "source": []
  }
 ],
 "metadata": {
  "kernelspec": {
   "display_name": "Python 3",
   "language": "python",
   "name": "python3"
  },
  "language_info": {
   "codemirror_mode": {
    "name": "ipython",
    "version": 3
   },
   "file_extension": ".py",
   "mimetype": "text/x-python",
   "name": "python",
   "nbconvert_exporter": "python",
   "pygments_lexer": "ipython3",
   "version": "3.6.1"
  }
 },
 "nbformat": 4,
 "nbformat_minor": 2
}
