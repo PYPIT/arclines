{
 "cells": [
  {
   "cell_type": "markdown",
   "metadata": {},
   "source": [
    "# Fiddling about with a ThAr spectrum"
   ]
  },
  {
   "cell_type": "code",
   "execution_count": 10,
   "metadata": {
    "collapsed": true
   },
   "outputs": [],
   "source": [
    "%matplotlib notebook"
   ]
  },
  {
   "cell_type": "code",
   "execution_count": 100,
   "metadata": {
    "collapsed": true
   },
   "outputs": [],
   "source": [
    "# imports\n",
    "from imp import reload\n",
    "import numpy as np\n",
    "from matplotlib import pyplot as plt\n",
    "\n",
    "from scipy.interpolate import interp1d\n",
    "\n",
    "from astropy.table import Table\n",
    "\n",
    "from arclines.holy import utils as arch_utils\n",
    "from arclines.holy import patterns as arch_patt"
   ]
  },
  {
   "cell_type": "markdown",
   "metadata": {},
   "source": [
    "### Ryan's head start\n",
    "    dispersion = 0.0207737, but varies from 0.01513672-0.02539062"
   ]
  },
  {
   "cell_type": "markdown",
   "metadata": {},
   "source": [
    "## Load spectrum"
   ]
  },
  {
   "cell_type": "code",
   "execution_count": 6,
   "metadata": {
    "collapsed": false
   },
   "outputs": [],
   "source": [
    "spec = Table.read('ThAr_order.dat', format='ascii')"
   ]
  },
  {
   "cell_type": "code",
   "execution_count": 7,
   "metadata": {
    "collapsed": false
   },
   "outputs": [
    {
     "data": {
      "text/html": [
       "&lt;Table length=5&gt;\n",
       "<table id=\"table139969062779816\" class=\"table-striped table-bordered table-condensed\">\n",
       "<thead><tr><th>Amp</th><th>Mask</th></tr></thead>\n",
       "<thead><tr><th>float64</th><th>float64</th></tr></thead>\n",
       "<tr><td>123.699002208</td><td>0.0</td></tr>\n",
       "<tr><td>146.297296666</td><td>0.0</td></tr>\n",
       "<tr><td>144.898493366</td><td>0.0</td></tr>\n",
       "<tr><td>139.902062285</td><td>0.0</td></tr>\n",
       "<tr><td>134.507523664</td><td>0.0</td></tr>\n",
       "</table>"
      ],
      "text/plain": [
       "<Table length=5>\n",
       "     Amp        Mask \n",
       "   float64    float64\n",
       "------------- -------\n",
       "123.699002208     0.0\n",
       "146.297296666     0.0\n",
       "144.898493366     0.0\n",
       "139.902062285     0.0\n",
       "134.507523664     0.0"
      ]
     },
     "execution_count": 7,
     "metadata": {},
     "output_type": "execute_result"
    }
   ],
   "source": [
    "spec[0:5]"
   ]
  },
  {
   "cell_type": "code",
   "execution_count": 28,
   "metadata": {
    "collapsed": false
   },
   "outputs": [
    {
     "data": {
      "text/plain": [
       "4608"
      ]
     },
     "execution_count": 28,
     "metadata": {},
     "output_type": "execute_result"
    }
   ],
   "source": [
    "npix = len(spec)\n",
    "npix"
   ]
  },
  {
   "cell_type": "markdown",
   "metadata": {},
   "source": [
    "### Plot"
   ]
  },
  {
   "cell_type": "code",
   "execution_count": 11,
   "metadata": {
    "collapsed": false
   },
   "outputs": [
    {
     "data": {
      "application/javascript": [
       "/* Put everything inside the global mpl namespace */\n",
       "window.mpl = {};\n",
       "\n",
       "\n",
       "mpl.get_websocket_type = function() {\n",
       "    if (typeof(WebSocket) !== 'undefined') {\n",
       "        return WebSocket;\n",
       "    } else if (typeof(MozWebSocket) !== 'undefined') {\n",
       "        return MozWebSocket;\n",
       "    } else {\n",
       "        alert('Your browser does not have WebSocket support.' +\n",
       "              'Please try Chrome, Safari or Firefox ≥ 6. ' +\n",
       "              'Firefox 4 and 5 are also supported but you ' +\n",
       "              'have to enable WebSockets in about:config.');\n",
       "    };\n",
       "}\n",
       "\n",
       "mpl.figure = function(figure_id, websocket, ondownload, parent_element) {\n",
       "    this.id = figure_id;\n",
       "\n",
       "    this.ws = websocket;\n",
       "\n",
       "    this.supports_binary = (this.ws.binaryType != undefined);\n",
       "\n",
       "    if (!this.supports_binary) {\n",
       "        var warnings = document.getElementById(\"mpl-warnings\");\n",
       "        if (warnings) {\n",
       "            warnings.style.display = 'block';\n",
       "            warnings.textContent = (\n",
       "                \"This browser does not support binary websocket messages. \" +\n",
       "                    \"Performance may be slow.\");\n",
       "        }\n",
       "    }\n",
       "\n",
       "    this.imageObj = new Image();\n",
       "\n",
       "    this.context = undefined;\n",
       "    this.message = undefined;\n",
       "    this.canvas = undefined;\n",
       "    this.rubberband_canvas = undefined;\n",
       "    this.rubberband_context = undefined;\n",
       "    this.format_dropdown = undefined;\n",
       "\n",
       "    this.image_mode = 'full';\n",
       "\n",
       "    this.root = $('<div/>');\n",
       "    this._root_extra_style(this.root)\n",
       "    this.root.attr('style', 'display: inline-block');\n",
       "\n",
       "    $(parent_element).append(this.root);\n",
       "\n",
       "    this._init_header(this);\n",
       "    this._init_canvas(this);\n",
       "    this._init_toolbar(this);\n",
       "\n",
       "    var fig = this;\n",
       "\n",
       "    this.waiting = false;\n",
       "\n",
       "    this.ws.onopen =  function () {\n",
       "            fig.send_message(\"supports_binary\", {value: fig.supports_binary});\n",
       "            fig.send_message(\"send_image_mode\", {});\n",
       "            if (mpl.ratio != 1) {\n",
       "                fig.send_message(\"set_dpi_ratio\", {'dpi_ratio': mpl.ratio});\n",
       "            }\n",
       "            fig.send_message(\"refresh\", {});\n",
       "        }\n",
       "\n",
       "    this.imageObj.onload = function() {\n",
       "            if (fig.image_mode == 'full') {\n",
       "                // Full images could contain transparency (where diff images\n",
       "                // almost always do), so we need to clear the canvas so that\n",
       "                // there is no ghosting.\n",
       "                fig.context.clearRect(0, 0, fig.canvas.width, fig.canvas.height);\n",
       "            }\n",
       "            fig.context.drawImage(fig.imageObj, 0, 0);\n",
       "        };\n",
       "\n",
       "    this.imageObj.onunload = function() {\n",
       "        this.ws.close();\n",
       "    }\n",
       "\n",
       "    this.ws.onmessage = this._make_on_message_function(this);\n",
       "\n",
       "    this.ondownload = ondownload;\n",
       "}\n",
       "\n",
       "mpl.figure.prototype._init_header = function() {\n",
       "    var titlebar = $(\n",
       "        '<div class=\"ui-dialog-titlebar ui-widget-header ui-corner-all ' +\n",
       "        'ui-helper-clearfix\"/>');\n",
       "    var titletext = $(\n",
       "        '<div class=\"ui-dialog-title\" style=\"width: 100%; ' +\n",
       "        'text-align: center; padding: 3px;\"/>');\n",
       "    titlebar.append(titletext)\n",
       "    this.root.append(titlebar);\n",
       "    this.header = titletext[0];\n",
       "}\n",
       "\n",
       "\n",
       "\n",
       "mpl.figure.prototype._canvas_extra_style = function(canvas_div) {\n",
       "\n",
       "}\n",
       "\n",
       "\n",
       "mpl.figure.prototype._root_extra_style = function(canvas_div) {\n",
       "\n",
       "}\n",
       "\n",
       "mpl.figure.prototype._init_canvas = function() {\n",
       "    var fig = this;\n",
       "\n",
       "    var canvas_div = $('<div/>');\n",
       "\n",
       "    canvas_div.attr('style', 'position: relative; clear: both; outline: 0');\n",
       "\n",
       "    function canvas_keyboard_event(event) {\n",
       "        return fig.key_event(event, event['data']);\n",
       "    }\n",
       "\n",
       "    canvas_div.keydown('key_press', canvas_keyboard_event);\n",
       "    canvas_div.keyup('key_release', canvas_keyboard_event);\n",
       "    this.canvas_div = canvas_div\n",
       "    this._canvas_extra_style(canvas_div)\n",
       "    this.root.append(canvas_div);\n",
       "\n",
       "    var canvas = $('<canvas/>');\n",
       "    canvas.addClass('mpl-canvas');\n",
       "    canvas.attr('style', \"left: 0; top: 0; z-index: 0; outline: 0\")\n",
       "\n",
       "    this.canvas = canvas[0];\n",
       "    this.context = canvas[0].getContext(\"2d\");\n",
       "\n",
       "    var backingStore = this.context.backingStorePixelRatio ||\n",
       "\tthis.context.webkitBackingStorePixelRatio ||\n",
       "\tthis.context.mozBackingStorePixelRatio ||\n",
       "\tthis.context.msBackingStorePixelRatio ||\n",
       "\tthis.context.oBackingStorePixelRatio ||\n",
       "\tthis.context.backingStorePixelRatio || 1;\n",
       "\n",
       "    mpl.ratio = (window.devicePixelRatio || 1) / backingStore;\n",
       "\n",
       "    var rubberband = $('<canvas/>');\n",
       "    rubberband.attr('style', \"position: absolute; left: 0; top: 0; z-index: 1;\")\n",
       "\n",
       "    var pass_mouse_events = true;\n",
       "\n",
       "    canvas_div.resizable({\n",
       "        start: function(event, ui) {\n",
       "            pass_mouse_events = false;\n",
       "        },\n",
       "        resize: function(event, ui) {\n",
       "            fig.request_resize(ui.size.width, ui.size.height);\n",
       "        },\n",
       "        stop: function(event, ui) {\n",
       "            pass_mouse_events = true;\n",
       "            fig.request_resize(ui.size.width, ui.size.height);\n",
       "        },\n",
       "    });\n",
       "\n",
       "    function mouse_event_fn(event) {\n",
       "        if (pass_mouse_events)\n",
       "            return fig.mouse_event(event, event['data']);\n",
       "    }\n",
       "\n",
       "    rubberband.mousedown('button_press', mouse_event_fn);\n",
       "    rubberband.mouseup('button_release', mouse_event_fn);\n",
       "    // Throttle sequential mouse events to 1 every 20ms.\n",
       "    rubberband.mousemove('motion_notify', mouse_event_fn);\n",
       "\n",
       "    rubberband.mouseenter('figure_enter', mouse_event_fn);\n",
       "    rubberband.mouseleave('figure_leave', mouse_event_fn);\n",
       "\n",
       "    canvas_div.on(\"wheel\", function (event) {\n",
       "        event = event.originalEvent;\n",
       "        event['data'] = 'scroll'\n",
       "        if (event.deltaY < 0) {\n",
       "            event.step = 1;\n",
       "        } else {\n",
       "            event.step = -1;\n",
       "        }\n",
       "        mouse_event_fn(event);\n",
       "    });\n",
       "\n",
       "    canvas_div.append(canvas);\n",
       "    canvas_div.append(rubberband);\n",
       "\n",
       "    this.rubberband = rubberband;\n",
       "    this.rubberband_canvas = rubberband[0];\n",
       "    this.rubberband_context = rubberband[0].getContext(\"2d\");\n",
       "    this.rubberband_context.strokeStyle = \"#000000\";\n",
       "\n",
       "    this._resize_canvas = function(width, height) {\n",
       "        // Keep the size of the canvas, canvas container, and rubber band\n",
       "        // canvas in synch.\n",
       "        canvas_div.css('width', width)\n",
       "        canvas_div.css('height', height)\n",
       "\n",
       "        canvas.attr('width', width * mpl.ratio);\n",
       "        canvas.attr('height', height * mpl.ratio);\n",
       "        canvas.attr('style', 'width: ' + width + 'px; height: ' + height + 'px;');\n",
       "\n",
       "        rubberband.attr('width', width);\n",
       "        rubberband.attr('height', height);\n",
       "    }\n",
       "\n",
       "    // Set the figure to an initial 600x600px, this will subsequently be updated\n",
       "    // upon first draw.\n",
       "    this._resize_canvas(600, 600);\n",
       "\n",
       "    // Disable right mouse context menu.\n",
       "    $(this.rubberband_canvas).bind(\"contextmenu\",function(e){\n",
       "        return false;\n",
       "    });\n",
       "\n",
       "    function set_focus () {\n",
       "        canvas.focus();\n",
       "        canvas_div.focus();\n",
       "    }\n",
       "\n",
       "    window.setTimeout(set_focus, 100);\n",
       "}\n",
       "\n",
       "mpl.figure.prototype._init_toolbar = function() {\n",
       "    var fig = this;\n",
       "\n",
       "    var nav_element = $('<div/>')\n",
       "    nav_element.attr('style', 'width: 100%');\n",
       "    this.root.append(nav_element);\n",
       "\n",
       "    // Define a callback function for later on.\n",
       "    function toolbar_event(event) {\n",
       "        return fig.toolbar_button_onclick(event['data']);\n",
       "    }\n",
       "    function toolbar_mouse_event(event) {\n",
       "        return fig.toolbar_button_onmouseover(event['data']);\n",
       "    }\n",
       "\n",
       "    for(var toolbar_ind in mpl.toolbar_items) {\n",
       "        var name = mpl.toolbar_items[toolbar_ind][0];\n",
       "        var tooltip = mpl.toolbar_items[toolbar_ind][1];\n",
       "        var image = mpl.toolbar_items[toolbar_ind][2];\n",
       "        var method_name = mpl.toolbar_items[toolbar_ind][3];\n",
       "\n",
       "        if (!name) {\n",
       "            // put a spacer in here.\n",
       "            continue;\n",
       "        }\n",
       "        var button = $('<button/>');\n",
       "        button.addClass('ui-button ui-widget ui-state-default ui-corner-all ' +\n",
       "                        'ui-button-icon-only');\n",
       "        button.attr('role', 'button');\n",
       "        button.attr('aria-disabled', 'false');\n",
       "        button.click(method_name, toolbar_event);\n",
       "        button.mouseover(tooltip, toolbar_mouse_event);\n",
       "\n",
       "        var icon_img = $('<span/>');\n",
       "        icon_img.addClass('ui-button-icon-primary ui-icon');\n",
       "        icon_img.addClass(image);\n",
       "        icon_img.addClass('ui-corner-all');\n",
       "\n",
       "        var tooltip_span = $('<span/>');\n",
       "        tooltip_span.addClass('ui-button-text');\n",
       "        tooltip_span.html(tooltip);\n",
       "\n",
       "        button.append(icon_img);\n",
       "        button.append(tooltip_span);\n",
       "\n",
       "        nav_element.append(button);\n",
       "    }\n",
       "\n",
       "    var fmt_picker_span = $('<span/>');\n",
       "\n",
       "    var fmt_picker = $('<select/>');\n",
       "    fmt_picker.addClass('mpl-toolbar-option ui-widget ui-widget-content');\n",
       "    fmt_picker_span.append(fmt_picker);\n",
       "    nav_element.append(fmt_picker_span);\n",
       "    this.format_dropdown = fmt_picker[0];\n",
       "\n",
       "    for (var ind in mpl.extensions) {\n",
       "        var fmt = mpl.extensions[ind];\n",
       "        var option = $(\n",
       "            '<option/>', {selected: fmt === mpl.default_extension}).html(fmt);\n",
       "        fmt_picker.append(option)\n",
       "    }\n",
       "\n",
       "    // Add hover states to the ui-buttons\n",
       "    $( \".ui-button\" ).hover(\n",
       "        function() { $(this).addClass(\"ui-state-hover\");},\n",
       "        function() { $(this).removeClass(\"ui-state-hover\");}\n",
       "    );\n",
       "\n",
       "    var status_bar = $('<span class=\"mpl-message\"/>');\n",
       "    nav_element.append(status_bar);\n",
       "    this.message = status_bar[0];\n",
       "}\n",
       "\n",
       "mpl.figure.prototype.request_resize = function(x_pixels, y_pixels) {\n",
       "    // Request matplotlib to resize the figure. Matplotlib will then trigger a resize in the client,\n",
       "    // which will in turn request a refresh of the image.\n",
       "    this.send_message('resize', {'width': x_pixels, 'height': y_pixels});\n",
       "}\n",
       "\n",
       "mpl.figure.prototype.send_message = function(type, properties) {\n",
       "    properties['type'] = type;\n",
       "    properties['figure_id'] = this.id;\n",
       "    this.ws.send(JSON.stringify(properties));\n",
       "}\n",
       "\n",
       "mpl.figure.prototype.send_draw_message = function() {\n",
       "    if (!this.waiting) {\n",
       "        this.waiting = true;\n",
       "        this.ws.send(JSON.stringify({type: \"draw\", figure_id: this.id}));\n",
       "    }\n",
       "}\n",
       "\n",
       "\n",
       "mpl.figure.prototype.handle_save = function(fig, msg) {\n",
       "    var format_dropdown = fig.format_dropdown;\n",
       "    var format = format_dropdown.options[format_dropdown.selectedIndex].value;\n",
       "    fig.ondownload(fig, format);\n",
       "}\n",
       "\n",
       "\n",
       "mpl.figure.prototype.handle_resize = function(fig, msg) {\n",
       "    var size = msg['size'];\n",
       "    if (size[0] != fig.canvas.width || size[1] != fig.canvas.height) {\n",
       "        fig._resize_canvas(size[0], size[1]);\n",
       "        fig.send_message(\"refresh\", {});\n",
       "    };\n",
       "}\n",
       "\n",
       "mpl.figure.prototype.handle_rubberband = function(fig, msg) {\n",
       "    var x0 = msg['x0'] / mpl.ratio;\n",
       "    var y0 = (fig.canvas.height - msg['y0']) / mpl.ratio;\n",
       "    var x1 = msg['x1'] / mpl.ratio;\n",
       "    var y1 = (fig.canvas.height - msg['y1']) / mpl.ratio;\n",
       "    x0 = Math.floor(x0) + 0.5;\n",
       "    y0 = Math.floor(y0) + 0.5;\n",
       "    x1 = Math.floor(x1) + 0.5;\n",
       "    y1 = Math.floor(y1) + 0.5;\n",
       "    var min_x = Math.min(x0, x1);\n",
       "    var min_y = Math.min(y0, y1);\n",
       "    var width = Math.abs(x1 - x0);\n",
       "    var height = Math.abs(y1 - y0);\n",
       "\n",
       "    fig.rubberband_context.clearRect(\n",
       "        0, 0, fig.canvas.width, fig.canvas.height);\n",
       "\n",
       "    fig.rubberband_context.strokeRect(min_x, min_y, width, height);\n",
       "}\n",
       "\n",
       "mpl.figure.prototype.handle_figure_label = function(fig, msg) {\n",
       "    // Updates the figure title.\n",
       "    fig.header.textContent = msg['label'];\n",
       "}\n",
       "\n",
       "mpl.figure.prototype.handle_cursor = function(fig, msg) {\n",
       "    var cursor = msg['cursor'];\n",
       "    switch(cursor)\n",
       "    {\n",
       "    case 0:\n",
       "        cursor = 'pointer';\n",
       "        break;\n",
       "    case 1:\n",
       "        cursor = 'default';\n",
       "        break;\n",
       "    case 2:\n",
       "        cursor = 'crosshair';\n",
       "        break;\n",
       "    case 3:\n",
       "        cursor = 'move';\n",
       "        break;\n",
       "    }\n",
       "    fig.rubberband_canvas.style.cursor = cursor;\n",
       "}\n",
       "\n",
       "mpl.figure.prototype.handle_message = function(fig, msg) {\n",
       "    fig.message.textContent = msg['message'];\n",
       "}\n",
       "\n",
       "mpl.figure.prototype.handle_draw = function(fig, msg) {\n",
       "    // Request the server to send over a new figure.\n",
       "    fig.send_draw_message();\n",
       "}\n",
       "\n",
       "mpl.figure.prototype.handle_image_mode = function(fig, msg) {\n",
       "    fig.image_mode = msg['mode'];\n",
       "}\n",
       "\n",
       "mpl.figure.prototype.updated_canvas_event = function() {\n",
       "    // Called whenever the canvas gets updated.\n",
       "    this.send_message(\"ack\", {});\n",
       "}\n",
       "\n",
       "// A function to construct a web socket function for onmessage handling.\n",
       "// Called in the figure constructor.\n",
       "mpl.figure.prototype._make_on_message_function = function(fig) {\n",
       "    return function socket_on_message(evt) {\n",
       "        if (evt.data instanceof Blob) {\n",
       "            /* FIXME: We get \"Resource interpreted as Image but\n",
       "             * transferred with MIME type text/plain:\" errors on\n",
       "             * Chrome.  But how to set the MIME type?  It doesn't seem\n",
       "             * to be part of the websocket stream */\n",
       "            evt.data.type = \"image/png\";\n",
       "\n",
       "            /* Free the memory for the previous frames */\n",
       "            if (fig.imageObj.src) {\n",
       "                (window.URL || window.webkitURL).revokeObjectURL(\n",
       "                    fig.imageObj.src);\n",
       "            }\n",
       "\n",
       "            fig.imageObj.src = (window.URL || window.webkitURL).createObjectURL(\n",
       "                evt.data);\n",
       "            fig.updated_canvas_event();\n",
       "            fig.waiting = false;\n",
       "            return;\n",
       "        }\n",
       "        else if (typeof evt.data === 'string' && evt.data.slice(0, 21) == \"data:image/png;base64\") {\n",
       "            fig.imageObj.src = evt.data;\n",
       "            fig.updated_canvas_event();\n",
       "            fig.waiting = false;\n",
       "            return;\n",
       "        }\n",
       "\n",
       "        var msg = JSON.parse(evt.data);\n",
       "        var msg_type = msg['type'];\n",
       "\n",
       "        // Call the  \"handle_{type}\" callback, which takes\n",
       "        // the figure and JSON message as its only arguments.\n",
       "        try {\n",
       "            var callback = fig[\"handle_\" + msg_type];\n",
       "        } catch (e) {\n",
       "            console.log(\"No handler for the '\" + msg_type + \"' message type: \", msg);\n",
       "            return;\n",
       "        }\n",
       "\n",
       "        if (callback) {\n",
       "            try {\n",
       "                // console.log(\"Handling '\" + msg_type + \"' message: \", msg);\n",
       "                callback(fig, msg);\n",
       "            } catch (e) {\n",
       "                console.log(\"Exception inside the 'handler_\" + msg_type + \"' callback:\", e, e.stack, msg);\n",
       "            }\n",
       "        }\n",
       "    };\n",
       "}\n",
       "\n",
       "// from http://stackoverflow.com/questions/1114465/getting-mouse-location-in-canvas\n",
       "mpl.findpos = function(e) {\n",
       "    //this section is from http://www.quirksmode.org/js/events_properties.html\n",
       "    var targ;\n",
       "    if (!e)\n",
       "        e = window.event;\n",
       "    if (e.target)\n",
       "        targ = e.target;\n",
       "    else if (e.srcElement)\n",
       "        targ = e.srcElement;\n",
       "    if (targ.nodeType == 3) // defeat Safari bug\n",
       "        targ = targ.parentNode;\n",
       "\n",
       "    // jQuery normalizes the pageX and pageY\n",
       "    // pageX,Y are the mouse positions relative to the document\n",
       "    // offset() returns the position of the element relative to the document\n",
       "    var x = e.pageX - $(targ).offset().left;\n",
       "    var y = e.pageY - $(targ).offset().top;\n",
       "\n",
       "    return {\"x\": x, \"y\": y};\n",
       "};\n",
       "\n",
       "/*\n",
       " * return a copy of an object with only non-object keys\n",
       " * we need this to avoid circular references\n",
       " * http://stackoverflow.com/a/24161582/3208463\n",
       " */\n",
       "function simpleKeys (original) {\n",
       "  return Object.keys(original).reduce(function (obj, key) {\n",
       "    if (typeof original[key] !== 'object')\n",
       "        obj[key] = original[key]\n",
       "    return obj;\n",
       "  }, {});\n",
       "}\n",
       "\n",
       "mpl.figure.prototype.mouse_event = function(event, name) {\n",
       "    var canvas_pos = mpl.findpos(event)\n",
       "\n",
       "    if (name === 'button_press')\n",
       "    {\n",
       "        this.canvas.focus();\n",
       "        this.canvas_div.focus();\n",
       "    }\n",
       "\n",
       "    var x = canvas_pos.x * mpl.ratio;\n",
       "    var y = canvas_pos.y * mpl.ratio;\n",
       "\n",
       "    this.send_message(name, {x: x, y: y, button: event.button,\n",
       "                             step: event.step,\n",
       "                             guiEvent: simpleKeys(event)});\n",
       "\n",
       "    /* This prevents the web browser from automatically changing to\n",
       "     * the text insertion cursor when the button is pressed.  We want\n",
       "     * to control all of the cursor setting manually through the\n",
       "     * 'cursor' event from matplotlib */\n",
       "    event.preventDefault();\n",
       "    return false;\n",
       "}\n",
       "\n",
       "mpl.figure.prototype._key_event_extra = function(event, name) {\n",
       "    // Handle any extra behaviour associated with a key event\n",
       "}\n",
       "\n",
       "mpl.figure.prototype.key_event = function(event, name) {\n",
       "\n",
       "    // Prevent repeat events\n",
       "    if (name == 'key_press')\n",
       "    {\n",
       "        if (event.which === this._key)\n",
       "            return;\n",
       "        else\n",
       "            this._key = event.which;\n",
       "    }\n",
       "    if (name == 'key_release')\n",
       "        this._key = null;\n",
       "\n",
       "    var value = '';\n",
       "    if (event.ctrlKey && event.which != 17)\n",
       "        value += \"ctrl+\";\n",
       "    if (event.altKey && event.which != 18)\n",
       "        value += \"alt+\";\n",
       "    if (event.shiftKey && event.which != 16)\n",
       "        value += \"shift+\";\n",
       "\n",
       "    value += 'k';\n",
       "    value += event.which.toString();\n",
       "\n",
       "    this._key_event_extra(event, name);\n",
       "\n",
       "    this.send_message(name, {key: value,\n",
       "                             guiEvent: simpleKeys(event)});\n",
       "    return false;\n",
       "}\n",
       "\n",
       "mpl.figure.prototype.toolbar_button_onclick = function(name) {\n",
       "    if (name == 'download') {\n",
       "        this.handle_save(this, null);\n",
       "    } else {\n",
       "        this.send_message(\"toolbar_button\", {name: name});\n",
       "    }\n",
       "};\n",
       "\n",
       "mpl.figure.prototype.toolbar_button_onmouseover = function(tooltip) {\n",
       "    this.message.textContent = tooltip;\n",
       "};\n",
       "mpl.toolbar_items = [[\"Home\", \"Reset original view\", \"fa fa-home icon-home\", \"home\"], [\"Back\", \"Back to  previous view\", \"fa fa-arrow-left icon-arrow-left\", \"back\"], [\"Forward\", \"Forward to next view\", \"fa fa-arrow-right icon-arrow-right\", \"forward\"], [\"\", \"\", \"\", \"\"], [\"Pan\", \"Pan axes with left mouse, zoom with right\", \"fa fa-arrows icon-move\", \"pan\"], [\"Zoom\", \"Zoom to rectangle\", \"fa fa-square-o icon-check-empty\", \"zoom\"], [\"\", \"\", \"\", \"\"], [\"Download\", \"Download plot\", \"fa fa-floppy-o icon-save\", \"download\"]];\n",
       "\n",
       "mpl.extensions = [\"eps\", \"jpeg\", \"pdf\", \"png\", \"ps\", \"raw\", \"svg\", \"tif\"];\n",
       "\n",
       "mpl.default_extension = \"png\";var comm_websocket_adapter = function(comm) {\n",
       "    // Create a \"websocket\"-like object which calls the given IPython comm\n",
       "    // object with the appropriate methods. Currently this is a non binary\n",
       "    // socket, so there is still some room for performance tuning.\n",
       "    var ws = {};\n",
       "\n",
       "    ws.close = function() {\n",
       "        comm.close()\n",
       "    };\n",
       "    ws.send = function(m) {\n",
       "        //console.log('sending', m);\n",
       "        comm.send(m);\n",
       "    };\n",
       "    // Register the callback with on_msg.\n",
       "    comm.on_msg(function(msg) {\n",
       "        //console.log('receiving', msg['content']['data'], msg);\n",
       "        // Pass the mpl event to the overriden (by mpl) onmessage function.\n",
       "        ws.onmessage(msg['content']['data'])\n",
       "    });\n",
       "    return ws;\n",
       "}\n",
       "\n",
       "mpl.mpl_figure_comm = function(comm, msg) {\n",
       "    // This is the function which gets called when the mpl process\n",
       "    // starts-up an IPython Comm through the \"matplotlib\" channel.\n",
       "\n",
       "    var id = msg.content.data.id;\n",
       "    // Get hold of the div created by the display call when the Comm\n",
       "    // socket was opened in Python.\n",
       "    var element = $(\"#\" + id);\n",
       "    var ws_proxy = comm_websocket_adapter(comm)\n",
       "\n",
       "    function ondownload(figure, format) {\n",
       "        window.open(figure.imageObj.src);\n",
       "    }\n",
       "\n",
       "    var fig = new mpl.figure(id, ws_proxy,\n",
       "                           ondownload,\n",
       "                           element.get(0));\n",
       "\n",
       "    // Call onopen now - mpl needs it, as it is assuming we've passed it a real\n",
       "    // web socket which is closed, not our websocket->open comm proxy.\n",
       "    ws_proxy.onopen();\n",
       "\n",
       "    fig.parent_element = element.get(0);\n",
       "    fig.cell_info = mpl.find_output_cell(\"<div id='\" + id + \"'></div>\");\n",
       "    if (!fig.cell_info) {\n",
       "        console.error(\"Failed to find cell for figure\", id, fig);\n",
       "        return;\n",
       "    }\n",
       "\n",
       "    var output_index = fig.cell_info[2]\n",
       "    var cell = fig.cell_info[0];\n",
       "\n",
       "};\n",
       "\n",
       "mpl.figure.prototype.handle_close = function(fig, msg) {\n",
       "    var width = fig.canvas.width/mpl.ratio\n",
       "    fig.root.unbind('remove')\n",
       "\n",
       "    // Update the output cell to use the data from the current canvas.\n",
       "    fig.push_to_output();\n",
       "    var dataURL = fig.canvas.toDataURL();\n",
       "    // Re-enable the keyboard manager in IPython - without this line, in FF,\n",
       "    // the notebook keyboard shortcuts fail.\n",
       "    IPython.keyboard_manager.enable()\n",
       "    $(fig.parent_element).html('<img src=\"' + dataURL + '\" width=\"' + width + '\">');\n",
       "    fig.close_ws(fig, msg);\n",
       "}\n",
       "\n",
       "mpl.figure.prototype.close_ws = function(fig, msg){\n",
       "    fig.send_message('closing', msg);\n",
       "    // fig.ws.close()\n",
       "}\n",
       "\n",
       "mpl.figure.prototype.push_to_output = function(remove_interactive) {\n",
       "    // Turn the data on the canvas into data in the output cell.\n",
       "    var width = this.canvas.width/mpl.ratio\n",
       "    var dataURL = this.canvas.toDataURL();\n",
       "    this.cell_info[1]['text/html'] = '<img src=\"' + dataURL + '\" width=\"' + width + '\">';\n",
       "}\n",
       "\n",
       "mpl.figure.prototype.updated_canvas_event = function() {\n",
       "    // Tell IPython that the notebook contents must change.\n",
       "    IPython.notebook.set_dirty(true);\n",
       "    this.send_message(\"ack\", {});\n",
       "    var fig = this;\n",
       "    // Wait a second, then push the new image to the DOM so\n",
       "    // that it is saved nicely (might be nice to debounce this).\n",
       "    setTimeout(function () { fig.push_to_output() }, 1000);\n",
       "}\n",
       "\n",
       "mpl.figure.prototype._init_toolbar = function() {\n",
       "    var fig = this;\n",
       "\n",
       "    var nav_element = $('<div/>')\n",
       "    nav_element.attr('style', 'width: 100%');\n",
       "    this.root.append(nav_element);\n",
       "\n",
       "    // Define a callback function for later on.\n",
       "    function toolbar_event(event) {\n",
       "        return fig.toolbar_button_onclick(event['data']);\n",
       "    }\n",
       "    function toolbar_mouse_event(event) {\n",
       "        return fig.toolbar_button_onmouseover(event['data']);\n",
       "    }\n",
       "\n",
       "    for(var toolbar_ind in mpl.toolbar_items){\n",
       "        var name = mpl.toolbar_items[toolbar_ind][0];\n",
       "        var tooltip = mpl.toolbar_items[toolbar_ind][1];\n",
       "        var image = mpl.toolbar_items[toolbar_ind][2];\n",
       "        var method_name = mpl.toolbar_items[toolbar_ind][3];\n",
       "\n",
       "        if (!name) { continue; };\n",
       "\n",
       "        var button = $('<button class=\"btn btn-default\" href=\"#\" title=\"' + name + '\"><i class=\"fa ' + image + ' fa-lg\"></i></button>');\n",
       "        button.click(method_name, toolbar_event);\n",
       "        button.mouseover(tooltip, toolbar_mouse_event);\n",
       "        nav_element.append(button);\n",
       "    }\n",
       "\n",
       "    // Add the status bar.\n",
       "    var status_bar = $('<span class=\"mpl-message\" style=\"text-align:right; float: right;\"/>');\n",
       "    nav_element.append(status_bar);\n",
       "    this.message = status_bar[0];\n",
       "\n",
       "    // Add the close button to the window.\n",
       "    var buttongrp = $('<div class=\"btn-group inline pull-right\"></div>');\n",
       "    var button = $('<button class=\"btn btn-mini btn-primary\" href=\"#\" title=\"Stop Interaction\"><i class=\"fa fa-power-off icon-remove icon-large\"></i></button>');\n",
       "    button.click(function (evt) { fig.handle_close(fig, {}); } );\n",
       "    button.mouseover('Stop Interaction', toolbar_mouse_event);\n",
       "    buttongrp.append(button);\n",
       "    var titlebar = this.root.find($('.ui-dialog-titlebar'));\n",
       "    titlebar.prepend(buttongrp);\n",
       "}\n",
       "\n",
       "mpl.figure.prototype._root_extra_style = function(el){\n",
       "    var fig = this\n",
       "    el.on(\"remove\", function(){\n",
       "\tfig.close_ws(fig, {});\n",
       "    });\n",
       "}\n",
       "\n",
       "mpl.figure.prototype._canvas_extra_style = function(el){\n",
       "    // this is important to make the div 'focusable\n",
       "    el.attr('tabindex', 0)\n",
       "    // reach out to IPython and tell the keyboard manager to turn it's self\n",
       "    // off when our div gets focus\n",
       "\n",
       "    // location in version 3\n",
       "    if (IPython.notebook.keyboard_manager) {\n",
       "        IPython.notebook.keyboard_manager.register_events(el);\n",
       "    }\n",
       "    else {\n",
       "        // location in version 2\n",
       "        IPython.keyboard_manager.register_events(el);\n",
       "    }\n",
       "\n",
       "}\n",
       "\n",
       "mpl.figure.prototype._key_event_extra = function(event, name) {\n",
       "    var manager = IPython.notebook.keyboard_manager;\n",
       "    if (!manager)\n",
       "        manager = IPython.keyboard_manager;\n",
       "\n",
       "    // Check for shift+enter\n",
       "    if (event.shiftKey && event.which == 13) {\n",
       "        this.canvas_div.blur();\n",
       "        // select the cell after this one\n",
       "        var index = IPython.notebook.find_cell_index(this.cell_info[0]);\n",
       "        IPython.notebook.select(index + 1);\n",
       "    }\n",
       "}\n",
       "\n",
       "mpl.figure.prototype.handle_save = function(fig, msg) {\n",
       "    fig.ondownload(fig, null);\n",
       "}\n",
       "\n",
       "\n",
       "mpl.find_output_cell = function(html_output) {\n",
       "    // Return the cell and output element which can be found *uniquely* in the notebook.\n",
       "    // Note - this is a bit hacky, but it is done because the \"notebook_saving.Notebook\"\n",
       "    // IPython event is triggered only after the cells have been serialised, which for\n",
       "    // our purposes (turning an active figure into a static one), is too late.\n",
       "    var cells = IPython.notebook.get_cells();\n",
       "    var ncells = cells.length;\n",
       "    for (var i=0; i<ncells; i++) {\n",
       "        var cell = cells[i];\n",
       "        if (cell.cell_type === 'code'){\n",
       "            for (var j=0; j<cell.output_area.outputs.length; j++) {\n",
       "                var data = cell.output_area.outputs[j];\n",
       "                if (data.data) {\n",
       "                    // IPython >= 3 moved mimebundle to data attribute of output\n",
       "                    data = data.data;\n",
       "                }\n",
       "                if (data['text/html'] == html_output) {\n",
       "                    return [cell, data, j];\n",
       "                }\n",
       "            }\n",
       "        }\n",
       "    }\n",
       "}\n",
       "\n",
       "// Register the function which deals with the matplotlib target/channel.\n",
       "// The kernel may be null if the page has been refreshed.\n",
       "if (IPython.notebook.kernel != null) {\n",
       "    IPython.notebook.kernel.comm_manager.register_target('matplotlib', mpl.mpl_figure_comm);\n",
       "}\n"
      ],
      "text/plain": [
       "<IPython.core.display.Javascript object>"
      ]
     },
     "metadata": {},
     "output_type": "display_data"
    },
    {
     "data": {
      "text/html": [
       "<img src=\"data:image/png;base64,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\" width=\"640\">"
      ],
      "text/plain": [
       "<IPython.core.display.HTML object>"
      ]
     },
     "metadata": {},
     "output_type": "display_data"
    }
   ],
   "source": [
    "plt.clf()\n",
    "ax = plt.gca()\n",
    "ax.plot(spec['Amp'])\n",
    "plt.show()"
   ]
  },
  {
   "cell_type": "markdown",
   "metadata": {},
   "source": [
    "## Find lines"
   ]
  },
  {
   "cell_type": "code",
   "execution_count": 25,
   "metadata": {
    "collapsed": true
   },
   "outputs": [],
   "source": [
    "min_ampl = 500."
   ]
  },
  {
   "cell_type": "code",
   "execution_count": 26,
   "metadata": {
    "collapsed": false
   },
   "outputs": [],
   "source": [
    "all_tcent, cut_tcent, icut = arch_utils.arc_lines_from_spec(spec['Amp'], min_ampl=min_ampl)"
   ]
  },
  {
   "cell_type": "code",
   "execution_count": 43,
   "metadata": {
    "collapsed": false
   },
   "outputs": [
    {
     "data": {
      "text/plain": [
       "array([   68.99142359,   113.48331851,   239.37516074,   415.3317666 ,\n",
       "         561.32906692,   571.4645097 ,   735.24455602,   780.23724842,\n",
       "         860.25902988,   889.1886349 ,  1122.02057338,  1233.21023743,\n",
       "        1254.7408401 ,  1276.79906003,  1306.53440798,  1347.87368539,\n",
       "        1495.30609497,  1559.73518558,  1770.19471548,  1933.19923538,\n",
       "        1984.32214665,  2142.13108391,  2246.98274251,  2277.74515521,\n",
       "        2426.21385446,  2529.88725955,  2560.32290983,  2640.91841529,\n",
       "        2729.05229192,  2826.81866458,  2896.04982037,  2935.71643307,\n",
       "        2990.36535694,  2991.85466797,  3019.11399274,  3190.94510642,\n",
       "        3233.73309295,  3341.9039537 ,  3441.02536686,  3476.84564742,\n",
       "        3543.86343013,  3562.84813516,  3677.80619477,  3764.9293156 ,\n",
       "        3934.17396581,  4076.70413285,  4231.68877775,  4323.93317141,\n",
       "        4371.71976891,  4493.72616805,  4546.24674055,  4568.41314314])"
      ]
     },
     "execution_count": 43,
     "metadata": {},
     "output_type": "execute_result"
    }
   ],
   "source": [
    "cut_tcent"
   ]
  },
  {
   "cell_type": "markdown",
   "metadata": {},
   "source": [
    "## Line list\n",
    "    wave_no is in Vacuum\n",
    "    wavelength is in Air"
   ]
  },
  {
   "cell_type": "code",
   "execution_count": 22,
   "metadata": {
    "collapsed": false
   },
   "outputs": [
    {
     "data": {
      "text/html": [
       "&lt;Table length=5&gt;\n",
       "<table id=\"table139968939819640\" class=\"table-striped table-bordered table-condensed\">\n",
       "<thead><tr><th>Wave_no.</th><th>wave</th><th>log(I)</th><th>Elm</th><th>ion</th><th>Reference</th></tr></thead>\n",
       "<thead><tr><th>float64</th><th>float64</th><th>float64</th><th>str2</th><th>str3</th><th>str1</th></tr></thead>\n",
       "<tr><td>33322.4046</td><td>3000.109256</td><td>0.45</td><td>Ar</td><td>II</td><td>W</td></tr>\n",
       "<tr><td>33319.9704</td><td>3000.328442</td><td>-0.007</td><td>XX</td><td>0</td><td>P</td></tr>\n",
       "<tr><td>33318.6726</td><td>3000.44531</td><td>1.22</td><td>Ar</td><td>II</td><td>W</td></tr>\n",
       "<tr><td>33313.404</td><td>3000.919858</td><td>0.297</td><td>Th</td><td>II</td><td>P</td></tr>\n",
       "<tr><td>33312.8136</td><td>3000.973041</td><td>0.026</td><td>XX</td><td>0</td><td>P</td></tr>\n",
       "</table>"
      ],
      "text/plain": [
       "<Table length=5>\n",
       " Wave_no.      wave     log(I) Elm  ion  Reference\n",
       " float64     float64   float64 str2 str3    str1  \n",
       "---------- ----------- ------- ---- ---- ---------\n",
       "33322.4046 3000.109256    0.45   Ar   II         W\n",
       "33319.9704 3000.328442  -0.007   XX    0         P\n",
       "33318.6726  3000.44531    1.22   Ar   II         W\n",
       " 33313.404 3000.919858   0.297   Th   II         P\n",
       "33312.8136 3000.973041   0.026   XX    0         P"
      ]
     },
     "execution_count": 22,
     "metadata": {},
     "output_type": "execute_result"
    }
   ],
   "source": [
    "thar = Table.read('arclist.ThAr', format='ascii')\n",
    "thar[0:5]"
   ]
  },
  {
   "cell_type": "code",
   "execution_count": 23,
   "metadata": {
    "collapsed": true
   },
   "outputs": [],
   "source": [
    "wvdata = thar['wave'].data"
   ]
  },
  {
   "cell_type": "markdown",
   "metadata": {},
   "source": [
    "## Start guessing"
   ]
  },
  {
   "cell_type": "code",
   "execution_count": 48,
   "metadata": {
    "collapsed": false
   },
   "outputs": [],
   "source": [
    "best_dict = dict(nmatch=0, ibest=-1, bwv=0., min_ampl=min_ampl)"
   ]
  },
  {
   "cell_type": "code",
   "execution_count": 42,
   "metadata": {
    "collapsed": true
   },
   "outputs": [],
   "source": [
    "pix_tol = 1."
   ]
  },
  {
   "cell_type": "code",
   "execution_count": 29,
   "metadata": {
    "collapsed": true
   },
   "outputs": [],
   "source": [
    "disp = 0.0207737  # Ang"
   ]
  },
  {
   "cell_type": "code",
   "execution_count": 49,
   "metadata": {
    "collapsed": true
   },
   "outputs": [],
   "source": [
    "wv_cen = 5000."
   ]
  },
  {
   "cell_type": "code",
   "execution_count": 50,
   "metadata": {
    "collapsed": false
   },
   "outputs": [
    {
     "data": {
      "text/plain": [
       "{'IDs': [0.0,\n",
       "  0.0,\n",
       "  0.0,\n",
       "  5043.5155430000004,\n",
       "  0.0,\n",
       "  0.0,\n",
       "  0.0,\n",
       "  0.0,\n",
       "  0.0,\n",
       "  0.0,\n",
       "  0.0,\n",
       "  0.0,\n",
       "  0.0,\n",
       "  0.0,\n",
       "  0.0,\n",
       "  0.0,\n",
       "  0.0,\n",
       "  0.0,\n",
       "  0.0,\n",
       "  0.0,\n",
       "  0.0,\n",
       "  0.0,\n",
       "  0.0,\n",
       "  0.0,\n",
       "  0.0,\n",
       "  0.0,\n",
       "  0.0,\n",
       "  0.0,\n",
       "  0.0,\n",
       "  0.0,\n",
       "  0.0,\n",
       "  0.0,\n",
       "  0.0,\n",
       "  0.0,\n",
       "  0.0,\n",
       "  0.0,\n",
       "  0.0,\n",
       "  0.0,\n",
       "  0.0,\n",
       "  0.0,\n",
       "  0.0,\n",
       "  0.0,\n",
       "  0.0,\n",
       "  0.0,\n",
       "  0.0,\n",
       "  0.0,\n",
       "  0.0,\n",
       "  0.0,\n",
       "  0.0,\n",
       "  0.0,\n",
       "  0.0,\n",
       "  0.0],\n",
       " 'ampl': None,\n",
       " 'bwv': 5084.0,\n",
       " 'ibest': 23,\n",
       " 'mask': array([False, False, False,  True, False, False, False, False, False,\n",
       "        False, False, False, False, False, False, False, False, False,\n",
       "        False, False, False, False, False, False, False, False, False,\n",
       "        False, False, False, False, False, False, False, False, False,\n",
       "        False, False, False, False, False, False, False, False, False,\n",
       "        False, False, False, False, False, False, False], dtype=bool),\n",
       " 'midx': {0: {'matches': [1943]},\n",
       "  1: {'matches': [1945, 1948, 1947]},\n",
       "  2: {'matches': [1951, 1950, 1951, 1950]},\n",
       "  3: {'matches': [1947, 1954, 1954, 1954, 1954, 1949]},\n",
       "  4: {'matches': [1950, 1958, 1958]},\n",
       "  5: {'matches': [1958, 1958, 1952]},\n",
       "  6: {'matches': [1961, 1962, 1955]},\n",
       "  7: {'matches': [1956]},\n",
       "  8: {'matches': []},\n",
       "  9: {'matches': [1956, 1967, 1958]},\n",
       "  10: {'matches': [1962, 1971, 1963]},\n",
       "  11: {'matches': [1975, 1965]},\n",
       "  12: {'matches': [1965, 1966]},\n",
       "  13: {'matches': [1966, 1977]},\n",
       "  14: {'matches': [1974]},\n",
       "  15: {'matches': [1975, 1965]},\n",
       "  16: {'matches': [1978, 1969]},\n",
       "  17: {'matches': [1967, 1970, 1970]},\n",
       "  18: {'matches': [1981, 1969, 1977, 1977]},\n",
       "  19: {'matches': [1972, 1979, 1979]},\n",
       "  20: {'matches': []},\n",
       "  21: {'matches': [1980]},\n",
       "  22: {'matches': []},\n",
       "  23: {'matches': []},\n",
       "  24: {'matches': []},\n",
       "  25: {'matches': []},\n",
       "  26: {'matches': []},\n",
       "  27: {'matches': []},\n",
       "  28: {'matches': []},\n",
       "  29: {'matches': []},\n",
       "  30: {'matches': []},\n",
       "  31: {'matches': []},\n",
       "  32: {'matches': []},\n",
       "  33: {'matches': []},\n",
       "  34: {'matches': []},\n",
       "  35: {'matches': []},\n",
       "  36: {'matches': []},\n",
       "  37: {'matches': []},\n",
       "  38: {'matches': []},\n",
       "  39: {'matches': []},\n",
       "  40: {'matches': []},\n",
       "  41: {'matches': []},\n",
       "  42: {'matches': []},\n",
       "  43: {'matches': []},\n",
       "  44: {'matches': []},\n",
       "  45: {'matches': []},\n",
       "  46: {'matches': []},\n",
       "  47: {'matches': []},\n",
       "  48: {'matches': []},\n",
       "  49: {'matches': []},\n",
       "  50: {'matches': []},\n",
       "  51: {'matches': []}},\n",
       " 'min_ampl': 500.0,\n",
       " 'nmatch': 1,\n",
       " 'pix_tol': 1.0,\n",
       " 'scores': array(['Amb', 'Amb', 'Amb', 'Good', 'Amb', 'Amb', 'Amb', 'Amb', 'None',\n",
       "        'Amb', 'Amb', 'Amb', 'Amb', 'Amb', 'Amb', 'Amb', 'Amb', 'Amb',\n",
       "        'Amb', 'Amb', 'None', 'Amb', 'None', 'None', 'None', 'None', 'None',\n",
       "        'None', 'None', 'None', 'None', 'None', 'None', 'None', 'None',\n",
       "        'None', 'None', 'None', 'None', 'None', 'None', 'None', 'None',\n",
       "        'None', 'None', 'None', 'None', 'None', 'None', 'None', 'None',\n",
       "        'None'], \n",
       "       dtype='<U4'),\n",
       " 'swv_uncertainty': 10.0,\n",
       " 'wvoff': 100.0}"
      ]
     },
     "execution_count": 50,
     "metadata": {},
     "output_type": "execute_result"
    }
   ],
   "source": [
    "reload(arch_patt)\n",
    "arch_patt.scan_for_matches(wv_cen, disp, npix, cut_tcent, wvdata,\n",
    "                                      best_dict=best_dict, pix_tol=pix_tol, \n",
    "                           swv_uncertainty=10.,wvoff=100.)\n",
    "best_dict"
   ]
  },
  {
   "cell_type": "markdown",
   "metadata": {},
   "source": [
    "## Loop me"
   ]
  },
  {
   "cell_type": "code",
   "execution_count": 54,
   "metadata": {
    "collapsed": false
   },
   "outputs": [
    {
     "data": {
      "text/plain": [
       "array([ 4500.,  4600.,  4700.,  4800.,  4900.,  5000.,  5100.,  5200.,\n",
       "        5300.,  5400.,  5500.,  5600.,  5700.,  5800.,  5900.,  6000.,\n",
       "        6100.,  6200.,  6300.,  6400.,  6500.,  6600.,  6700.,  6800.,\n",
       "        6900.,  7000.,  7100.,  7200.,  7300.,  7400.,  7500.,  7600.,\n",
       "        7700.,  7800.,  7900.])"
      ]
     },
     "execution_count": 54,
     "metadata": {},
     "output_type": "execute_result"
    }
   ],
   "source": [
    "wvcens = np.arange(4500., 8000., 100)\n",
    "wvcens"
   ]
  },
  {
   "cell_type": "code",
   "execution_count": 55,
   "metadata": {
    "collapsed": true
   },
   "outputs": [],
   "source": []
  },
  {
   "cell_type": "code",
   "execution_count": 59,
   "metadata": {
    "collapsed": false
   },
   "outputs": [
    {
     "name": "stdout",
     "output_type": "stream",
     "text": [
      "Working on wvcen=4500.000000\n",
      "Nmatch = 2\n",
      "Working on wvcen=4600.000000\n",
      "Nmatch = 3\n",
      "Working on wvcen=4700.000000\n",
      "Nmatch = 3\n",
      "Working on wvcen=4800.000000\n",
      "Nmatch = 3\n",
      "Working on wvcen=4900.000000\n",
      "Nmatch = 3\n",
      "Working on wvcen=5000.000000\n",
      "Nmatch = 3\n",
      "Working on wvcen=5100.000000\n",
      "Nmatch = 3\n",
      "Working on wvcen=5200.000000\n",
      "Nmatch = 7\n",
      "Working on wvcen=5300.000000\n",
      "Nmatch = 7\n",
      "Working on wvcen=5400.000000\n",
      "Nmatch = 7\n",
      "Working on wvcen=5500.000000\n",
      "Nmatch = 7\n",
      "Working on wvcen=5600.000000\n",
      "Nmatch = 7\n",
      "Working on wvcen=5700.000000\n",
      "Nmatch = 7\n",
      "Working on wvcen=5800.000000\n",
      "Nmatch = 7\n",
      "Working on wvcen=5900.000000\n",
      "Nmatch = 7\n",
      "Working on wvcen=6000.000000\n",
      "Nmatch = 7\n",
      "Working on wvcen=6100.000000\n",
      "Nmatch = 7\n",
      "Working on wvcen=6200.000000\n",
      "Nmatch = 7\n",
      "Working on wvcen=6300.000000\n",
      "Nmatch = 7\n",
      "Working on wvcen=6400.000000\n",
      "Nmatch = 7\n",
      "Working on wvcen=6500.000000\n",
      "Nmatch = 7\n",
      "Working on wvcen=6600.000000\n",
      "Nmatch = 7\n",
      "Working on wvcen=6700.000000\n",
      "Nmatch = 7\n",
      "Working on wvcen=6800.000000\n",
      "Nmatch = 7\n",
      "Working on wvcen=6900.000000\n",
      "Nmatch = 7\n",
      "Working on wvcen=7000.000000\n",
      "Nmatch = 7\n",
      "Working on wvcen=7100.000000\n",
      "Nmatch = 7\n",
      "Working on wvcen=7200.000000\n",
      "Nmatch = 7\n",
      "Working on wvcen=7300.000000\n",
      "Nmatch = 7\n",
      "Working on wvcen=7400.000000\n",
      "Nmatch = 7\n",
      "Working on wvcen=7500.000000\n",
      "Nmatch = 7\n",
      "Working on wvcen=7600.000000\n",
      "Nmatch = 7\n",
      "Working on wvcen=7700.000000\n",
      "Nmatch = 7\n",
      "Working on wvcen=7800.000000\n",
      "Nmatch = 7\n",
      "Working on wvcen=7900.000000\n",
      "Nmatch = 7\n"
     ]
    }
   ],
   "source": [
    "best_dict = dict(nmatch=0, ibest=-1, bwv=0., min_ampl=min_ampl)\n",
    "for iwvcen in wvcens:\n",
    "    print(\"Working on wvcen={:f}\".format(iwvcen))\n",
    "    arch_patt.scan_for_matches(iwvcen, disp, npix, cut_tcent, wvdata,\n",
    "                                      best_dict=best_dict, pix_tol=pix_tol, \n",
    "                           swv_uncertainty=10.,wvoff=100.)\n",
    "    print(\"Nmatch = {:d}\".format(best_dict['nmatch']))"
   ]
  },
  {
   "cell_type": "code",
   "execution_count": 60,
   "metadata": {
    "collapsed": false
   },
   "outputs": [
    {
     "data": {
      "text/plain": [
       "5204.0"
      ]
     },
     "execution_count": 60,
     "metadata": {},
     "output_type": "execute_result"
    }
   ],
   "source": [
    "best_dict['bwv']"
   ]
  },
  {
   "cell_type": "markdown",
   "metadata": {},
   "source": [
    "## Refine?!"
   ]
  },
  {
   "cell_type": "code",
   "execution_count": 68,
   "metadata": {
    "collapsed": false
   },
   "outputs": [
    {
     "data": {
      "text/plain": [
       "7"
      ]
     },
     "execution_count": 68,
     "metadata": {},
     "output_type": "execute_result"
    }
   ],
   "source": [
    "pix_tol = 1.\n",
    "best_dict = dict(nmatch=0, ibest=-1, bwv=0., min_ampl=min_ampl)\n",
    "arch_patt.scan_for_matches(5200., disp, npix, cut_tcent, wvdata,\n",
    "                                      best_dict=best_dict, pix_tol=pix_tol, \n",
    "                           swv_uncertainty=10.,wvoff=100.)\n",
    "best_dict['nmatch']"
   ]
  },
  {
   "cell_type": "code",
   "execution_count": 69,
   "metadata": {
    "collapsed": false
   },
   "outputs": [
    {
     "data": {
      "text/plain": [
       "array(['None', 'Amb', 'Amb', 'Amb', 'None', 'Amb', 'None', 'Amb', 'Amb',\n",
       "       'Amb', 'Amb', 'Amb', 'None', 'None', 'None', 'None', 'None', 'None',\n",
       "       'None', 'None', 'None', 'None', 'None', 'Amb', 'Amb', 'None', 'Amb',\n",
       "       'Amb', 'None', 'None', 'None', 'None', 'None', 'None', 'Good', 'OK',\n",
       "       'Good', 'Perf', 'Good', 'Amb', 'None', 'None', 'None', 'Amb',\n",
       "       'Good', 'Amb', 'Amb', 'Good', 'Perf', 'None', 'None', 'None'], \n",
       "      dtype='<U4')"
      ]
     },
     "execution_count": 69,
     "metadata": {},
     "output_type": "execute_result"
    }
   ],
   "source": [
    "best_dict['scores']"
   ]
  },
  {
   "cell_type": "code",
   "execution_count": 71,
   "metadata": {
    "collapsed": false
   },
   "outputs": [
    {
     "data": {
      "text/plain": [
       "5204.0"
      ]
     },
     "execution_count": 71,
     "metadata": {},
     "output_type": "execute_result"
    }
   ],
   "source": [
    "best_dict['bwv']"
   ]
  },
  {
   "cell_type": "markdown",
   "metadata": {},
   "source": [
    "## RC tells me central wavelength is close to 6000A\n",
    "    Have cheated.  Answer is ~6060A"
   ]
  },
  {
   "cell_type": "code",
   "execution_count": 91,
   "metadata": {
    "collapsed": false
   },
   "outputs": [
    {
     "data": {
      "text/plain": [
       "1"
      ]
     },
     "execution_count": 91,
     "metadata": {},
     "output_type": "execute_result"
    }
   ],
   "source": [
    "pix_tol = 2.\n",
    "best_dict = dict(nmatch=0, ibest=-1, bwv=0., min_ampl=min_ampl)\n",
    "arch_patt.scan_for_matches(6060., disp, npix, cut_tcent, wvdata,\n",
    "                                      best_dict=best_dict, pix_tol=pix_tol, \n",
    "                           swv_uncertainty=10.,wvoff=10.)\n",
    "best_dict['nmatch']"
   ]
  },
  {
   "cell_type": "code",
   "execution_count": 92,
   "metadata": {
    "collapsed": false
   },
   "outputs": [
    {
     "data": {
      "text/plain": [
       "array(['None', 'Amb', 'Amb', 'Amb', 'Amb', 'Amb', 'Amb', 'Amb', 'None',\n",
       "       'None', 'Amb', 'Amb', 'Amb', 'None', 'Amb', 'Amb', 'Good', 'Amb',\n",
       "       'Amb', 'Amb', 'Amb', 'None', 'None', 'None', 'None', 'None', 'None',\n",
       "       'None', 'None', 'None', 'None', 'Amb', 'Amb', 'Amb', 'None', 'Amb',\n",
       "       'None', 'None', 'None', 'None', 'None', 'Amb', 'Amb', 'Amb', 'None',\n",
       "       'Risk', 'Amb', 'None', 'None', 'None', 'None', 'None'], \n",
       "      dtype='<U4')"
      ]
     },
     "execution_count": 92,
     "metadata": {},
     "output_type": "execute_result"
    }
   ],
   "source": [
    "best_dict['scores']"
   ]
  },
  {
   "cell_type": "code",
   "execution_count": 93,
   "metadata": {
    "collapsed": true
   },
   "outputs": [],
   "source": [
    "IDs = np.array(best_dict['IDs'])"
   ]
  },
  {
   "cell_type": "code",
   "execution_count": 94,
   "metadata": {
    "collapsed": false
   },
   "outputs": [],
   "source": [
    "gd =  IDs > 0."
   ]
  },
  {
   "cell_type": "code",
   "execution_count": 95,
   "metadata": {
    "collapsed": false
   },
   "outputs": [
    {
     "data": {
      "text/plain": [
       "(array([ 1495.30609497]), array([ 6029.226527]))"
      ]
     },
     "execution_count": 95,
     "metadata": {},
     "output_type": "execute_result"
    }
   ],
   "source": [
    "cut_tcent[gd], IDs[gd]"
   ]
  },
  {
   "cell_type": "code",
   "execution_count": 96,
   "metadata": {
    "collapsed": false
   },
   "outputs": [
    {
     "data": {
      "text/plain": [
       "6050.0"
      ]
     },
     "execution_count": 96,
     "metadata": {},
     "output_type": "execute_result"
    }
   ],
   "source": [
    "best_dict['bwv']"
   ]
  },
  {
   "cell_type": "markdown",
   "metadata": {},
   "source": [
    "## Faux line list"
   ]
  },
  {
   "cell_type": "code",
   "execution_count": 99,
   "metadata": {
    "collapsed": false
   },
   "outputs": [
    {
     "data": {
      "text/html": [
       "&lt;Table length=5&gt;\n",
       "<table id=\"table139968903343016\" class=\"table-striped table-bordered table-condensed\">\n",
       "<thead><tr><th>true_wv</th></tr></thead>\n",
       "<thead><tr><th>float64</th></tr></thead>\n",
       "<tr><td>6005.85253906</td></tr>\n",
       "<tr><td>6005.87792969</td></tr>\n",
       "<tr><td>6005.90380859</td></tr>\n",
       "<tr><td>6005.92919922</td></tr>\n",
       "<tr><td>6005.95507812</td></tr>\n",
       "</table>"
      ],
      "text/plain": [
       "<Table length=5>\n",
       "   true_wv   \n",
       "   float64   \n",
       "-------------\n",
       "6005.85253906\n",
       "6005.87792969\n",
       "6005.90380859\n",
       "6005.92919922\n",
       "6005.95507812"
      ]
     },
     "execution_count": 99,
     "metadata": {},
     "output_type": "execute_result"
    }
   ],
   "source": [
    "soln = Table.read('solution.dat', format='ascii')\n",
    "soln[0:5]"
   ]
  },
  {
   "cell_type": "code",
   "execution_count": 101,
   "metadata": {
    "collapsed": true
   },
   "outputs": [],
   "source": [
    "fsoln = interp1d(np.arange(npix), soln['true_wv'], kind='cubic')"
   ]
  },
  {
   "cell_type": "code",
   "execution_count": 103,
   "metadata": {
    "collapsed": false
   },
   "outputs": [],
   "source": [
    "cheat_list = fsoln(cut_tcent)"
   ]
  },
  {
   "cell_type": "code",
   "execution_count": 107,
   "metadata": {
    "collapsed": true
   },
   "outputs": [],
   "source": [
    "pix_tol = 1.\n",
    "best_dict = dict(nmatch=0, ibest=-1, bwv=0., min_ampl=min_ampl)\n",
    "arch_patt.scan_for_matches(6060., disp, npix, cut_tcent, cheat_list,\n",
    "                                      best_dict=best_dict, pix_tol=pix_tol, \n",
    "                           swv_uncertainty=10.,wvoff=10.)"
   ]
  },
  {
   "cell_type": "code",
   "execution_count": 108,
   "metadata": {
    "collapsed": false
   },
   "outputs": [
    {
     "data": {
      "text/plain": [
       "41"
      ]
     },
     "execution_count": 108,
     "metadata": {},
     "output_type": "execute_result"
    }
   ],
   "source": [
    "best_dict['nmatch']"
   ]
  },
  {
   "cell_type": "code",
   "execution_count": 109,
   "metadata": {
    "collapsed": false
   },
   "outputs": [
    {
     "data": {
      "text/plain": [
       "array(['None', 'None', 'Good', 'Perf', 'Perf', 'Perf', 'Perf', 'Perf',\n",
       "       'Perf', 'Perf', 'Perf', 'Perf', 'Perf', 'Perf', 'Perf', 'Perf',\n",
       "       'Perf', 'Perf', 'Amb', 'Perf', 'Perf', 'Perf', 'Perf', 'Perf',\n",
       "       'Perf', 'Perf', 'Perf', 'Perf', 'Perf', 'Perf', 'Good', 'Perf',\n",
       "       'Good', 'Good', 'Good', 'Perf', 'Perf', 'Perf', 'Perf', 'Perf',\n",
       "       'Perf', 'Perf', 'Good', 'Amb', 'Good', 'None', 'Amb', 'Risk',\n",
       "       'None', 'None', 'None', 'None'], \n",
       "      dtype='<U4')"
      ]
     },
     "execution_count": 109,
     "metadata": {},
     "output_type": "execute_result"
    }
   ],
   "source": [
    "best_dict['scores']"
   ]
  },
  {
   "cell_type": "code",
   "execution_count": null,
   "metadata": {
    "collapsed": true
   },
   "outputs": [],
   "source": []
  }
 ],
 "metadata": {
  "kernelspec": {
   "display_name": "Python 3",
   "language": "python",
   "name": "python3"
  },
  "language_info": {
   "codemirror_mode": {
    "name": "ipython",
    "version": 3
   },
   "file_extension": ".py",
   "mimetype": "text/x-python",
   "name": "python",
   "nbconvert_exporter": "python",
   "pygments_lexer": "ipython3",
   "version": "3.6.1"
  }
 },
 "nbformat": 4,
 "nbformat_minor": 2
}
