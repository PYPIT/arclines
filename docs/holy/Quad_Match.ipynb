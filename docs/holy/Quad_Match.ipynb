{
 "cells": [
  {
   "cell_type": "markdown",
   "metadata": {},
   "source": [
    "# Exploring matching quad patterns in arc line spectra"
   ]
  },
  {
   "cell_type": "code",
   "execution_count": 16,
   "metadata": {
    "collapsed": false
   },
   "outputs": [],
   "source": [
    "# imports\n",
    "import json\n",
    "import pdb \n",
    "\n",
    "import arclines\n",
    "from arclines import io as arcl_io\n",
    "from arclines.holy import patterns as arch_patt\n",
    "\n",
    "from pypit import pyputils\n",
    "msgs = pyputils.get_dummy_logger()\n",
    "from pypit import arutils"
   ]
  },
  {
   "cell_type": "markdown",
   "metadata": {},
   "source": [
    "## LRISr -- R600/7500\n",
    "\n",
    "### Idealized as the loaded spectrum is the one used to generate the current line lists\n",
    "\n",
    "### We assume that the wavelength of a given feature is known to +/- 200 Ang"
   ]
  },
  {
   "cell_type": "code",
   "execution_count": 6,
   "metadata": {
    "collapsed": true
   },
   "outputs": [],
   "source": [
    "swv_uncertainty = 200."
   ]
  },
  {
   "cell_type": "markdown",
   "metadata": {},
   "source": [
    "### Load"
   ]
  },
  {
   "cell_type": "code",
   "execution_count": 4,
   "metadata": {
    "collapsed": true
   },
   "outputs": [],
   "source": [
    "lrisr_file = arclines.__path__[0]+'/data/sources/lrisr_600_7500_PYPIT.json'\n",
    "with open(lrisr_file,'r') as f:\n",
    "    lrisr = json.load(f)"
   ]
  },
  {
   "cell_type": "code",
   "execution_count": 5,
   "metadata": {
    "collapsed": true
   },
   "outputs": [],
   "source": [
    "npix = len(lrisr['spec'])"
   ]
  },
  {
   "cell_type": "markdown",
   "metadata": {},
   "source": [
    "### Setup"
   ]
  },
  {
   "cell_type": "code",
   "execution_count": 26,
   "metadata": {
    "collapsed": true
   },
   "outputs": [],
   "source": [
    "# Wavelengths\n",
    "def get_wave(pypit_fit):\n",
    "    npix = len(pypit_fit['spec'])\n",
    "    wave = arutils.func_val(pypit_fit['fitc'],\n",
    "                        np.array(pypit_fit['tcent'])/(npix-1),\n",
    "                        pypit_fit['function'],\n",
    "                        minv=pypit_fit['fmin'], maxv=pypit_fit['fmax'])\n",
    "    return wave"
   ]
  },
  {
   "cell_type": "code",
   "execution_count": 27,
   "metadata": {
    "collapsed": true
   },
   "outputs": [],
   "source": [
    "wave = get_wave(lrisr)"
   ]
  },
  {
   "cell_type": "code",
   "execution_count": 14,
   "metadata": {
    "collapsed": true
   },
   "outputs": [],
   "source": [
    "# Line list\n",
    "reload(arcl_io)\n",
    "llist = arcl_io.load_line_lists(['ArI','HgI','KrI','NeI','XeI'], unknown=True)"
   ]
  },
  {
   "cell_type": "code",
   "execution_count": 15,
   "metadata": {
    "collapsed": true
   },
   "outputs": [],
   "source": [
    "# Cut\n",
    "gdwv = (llist['wave'] > 5400.) & (llist['wave'] < 9000.)\n",
    "cut_llist = llist[gdwv]"
   ]
  },
  {
   "cell_type": "code",
   "execution_count": 18,
   "metadata": {
    "collapsed": true
   },
   "outputs": [],
   "source": [
    "wvdata = cut_llist['wave'].data\n",
    "wvdata.sort()"
   ]
  },
  {
   "cell_type": "markdown",
   "metadata": {},
   "source": [
    "### Match"
   ]
  },
  {
   "cell_type": "code",
   "execution_count": 22,
   "metadata": {
    "collapsed": false
   },
   "outputs": [],
   "source": [
    "reload(arch_patt)\n",
    "tcent = np.array(pypit_fit['tcent'])\n",
    "nlin = tcent.size\n",
    "# init\n",
    "final_idx = {}\n",
    "for ii in range(nlin):\n",
    "    final_idx[ii] = []\n",
    "#\n",
    "for idx in range(nlin-4):\n",
    "    # Setup\n",
    "    spec_lines = np.array(tcent[idx:idx+4])\n",
    "    wvmnx = [wave[idx]-swv_uncertainty, wave[idx]+swv_uncertainty]\n",
    "    # Run\n",
    "    #pdb.set_trace()\n",
    "    matches = arch_patt.match_quad_to_list(spec_lines, wvdata, wvmnx, 1.6, tol=1)\n",
    "    # Save\n",
    "    for match in matches:\n",
    "        for ii in range(4):\n",
    "            final_idx[idx+ii].append(match[ii])"
   ]
  },
  {
   "cell_type": "code",
   "execution_count": 23,
   "metadata": {
    "collapsed": false
   },
   "outputs": [
    {
     "data": {
      "text/plain": [
       "{0: [1],\n",
       " 1: [2, 2],\n",
       " 2: [3, 3, 3],\n",
       " 3: [4, 4, 4, 4],\n",
       " 4: [5, 5, 5, 5],\n",
       " 5: [6, 6, 6, 6],\n",
       " 6: [7, 7, 7, 7],\n",
       " 7: [8, 8, 8, 8],\n",
       " 8: [9, 9, 9, 9],\n",
       " 9: [10, 10, 10, 10],\n",
       " 10: [11, 11, 11, 11],\n",
       " 11: [12, 12, 12, 12],\n",
       " 12: [13, 13, 13, 13],\n",
       " 13: [14, 14, 14, 14],\n",
       " 14: [15, 15, 15, 15],\n",
       " 15: [16, 16, 16, 16],\n",
       " 16: [17, 17, 17, 17],\n",
       " 17: [18, 18, 18, 18],\n",
       " 18: [19, 19, 19, 19, 20, 21],\n",
       " 19: [20, 20, 20, 21, 22, 19, 20, 21],\n",
       " 20: [21, 21, 22, 23, 20, 21, 22, 19, 20, 21],\n",
       " 21: [22, 23, 24, 21, 22, 23, 20, 21, 22, 22],\n",
       " 22: [22, 23, 24, 21, 22, 23, 23, 23],\n",
       " 23: [22, 23, 24, 24, 24, 24],\n",
       " 24: [25, 25, 25, 25],\n",
       " 25: [26, 26, 26, 26],\n",
       " 26: [27, 27, 27, 27],\n",
       " 27: [28, 28, 28, 28],\n",
       " 28: [29, 29, 29, 29],\n",
       " 29: [30, 30, 30, 30],\n",
       " 30: [31, 31, 31, 31],\n",
       " 31: [32, 32, 32, 32],\n",
       " 32: [33, 33, 33, 33],\n",
       " 33: [34, 34, 34, 34],\n",
       " 34: [35, 35, 35, 35],\n",
       " 35: [36, 36, 36, 36],\n",
       " 36: [37, 37, 37, 37],\n",
       " 37: [38, 38, 38, 38],\n",
       " 38: [39, 39, 39, 39],\n",
       " 39: [40, 40, 40, 40],\n",
       " 40: [41, 41, 41, 41, 44],\n",
       " 41: [42, 42, 42, 45, 42],\n",
       " 42: [43, 43, 51, 43, 43],\n",
       " 43: [44, 53, 44, 44, 44],\n",
       " 44: [45, 45, 45, 45],\n",
       " 45: [46, 46, 46, 46],\n",
       " 46: [47, 47, 47, 47],\n",
       " 47: [48, 48, 48, 48],\n",
       " 48: [49, 49, 49, 44, 49],\n",
       " 49: [50, 50, 46, 50, 50],\n",
       " 50: [51, 47, 51, 51, 51],\n",
       " 51: [49, 52, 52, 52, 52],\n",
       " 52: [53, 53, 53, 53],\n",
       " 53: [54, 54, 54, 54],\n",
       " 54: [55, 55, 55, 55],\n",
       " 55: [56, 56, 56, 56],\n",
       " 56: [57, 57, 57, 57],\n",
       " 57: [58, 58, 58, 58],\n",
       " 58: [59, 59, 59, 59],\n",
       " 59: [60, 60, 60, 60],\n",
       " 60: [61, 61, 61, 61],\n",
       " 61: [62, 62, 62, 62],\n",
       " 62: [63, 63, 63, 63],\n",
       " 63: [64, 64, 64, 64],\n",
       " 64: [65, 65, 65, 65],\n",
       " 65: [66, 66, 66, 66],\n",
       " 66: [67, 67, 67, 67],\n",
       " 67: [68, 68, 68, 68],\n",
       " 68: [69, 69, 69, 69],\n",
       " 69: [70, 70, 70, 70],\n",
       " 70: [71, 71, 71, 71],\n",
       " 71: [72, 72, 72, 64, 72],\n",
       " 72: [73, 73, 66, 73, 73],\n",
       " 73: [74, 67, 74, 74, 74],\n",
       " 74: [68, 75, 75, 75, 75],\n",
       " 75: [76, 76, 76, 76],\n",
       " 76: [77, 77, 77, 77, 83],\n",
       " 77: [78, 78, 78, 84, 78],\n",
       " 78: [79, 79, 86, 79, 79],\n",
       " 79: [80, 87, 80, 80, 80],\n",
       " 80: [81, 81, 81, 81],\n",
       " 81: [82, 82, 82, 82],\n",
       " 82: [83, 83, 83, 78, 83],\n",
       " 83: [84, 84, 80, 84, 84],\n",
       " 84: [85, 81, 85, 85, 85],\n",
       " 85: [82, 86, 86, 86, 86],\n",
       " 86: [87, 87, 87, 87],\n",
       " 87: [88, 88, 88, 88],\n",
       " 88: [89, 89, 89],\n",
       " 89: [90, 90],\n",
       " 90: [91],\n",
       " 91: []}"
      ]
     },
     "execution_count": 23,
     "metadata": {},
     "output_type": "execute_result"
    }
   ],
   "source": [
    "final_idx"
   ]
  },
  {
   "cell_type": "markdown",
   "metadata": {},
   "source": [
    "## LRISb -- B600"
   ]
  },
  {
   "cell_type": "markdown",
   "metadata": {},
   "source": [
    "### Load"
   ]
  },
  {
   "cell_type": "code",
   "execution_count": 24,
   "metadata": {
    "collapsed": true
   },
   "outputs": [],
   "source": [
    "lrisb_file = arclines.__path__[0]+'/data/sources/lrisb_600_4000_PYPIT.json'\n",
    "with open(lrisb_file,'r') as f:\n",
    "    lrisb = json.load(f)"
   ]
  },
  {
   "cell_type": "code",
   "execution_count": 25,
   "metadata": {
    "collapsed": true
   },
   "outputs": [],
   "source": [
    "npix = len(lrisb['spec'])"
   ]
  },
  {
   "cell_type": "markdown",
   "metadata": {},
   "source": [
    "### Setup"
   ]
  },
  {
   "cell_type": "code",
   "execution_count": 28,
   "metadata": {
    "collapsed": true
   },
   "outputs": [],
   "source": [
    "wave = get_wave(lrisb)"
   ]
  },
  {
   "cell_type": "code",
   "execution_count": 30,
   "metadata": {
    "collapsed": true
   },
   "outputs": [],
   "source": [
    "# Line list\n",
    "reload(arcl_io)\n",
    "llist = arcl_io.load_line_lists(['CdI','HgI','ZnI'], unknown=True)"
   ]
  },
  {
   "cell_type": "code",
   "execution_count": 31,
   "metadata": {
    "collapsed": true
   },
   "outputs": [],
   "source": [
    "# Cut\n",
    "gdwv = (llist['wave'] > 3000.) & (llist['wave'] < 5600.)\n",
    "cut_llist = llist[gdwv]"
   ]
  },
  {
   "cell_type": "code",
   "execution_count": 32,
   "metadata": {
    "collapsed": true
   },
   "outputs": [],
   "source": [
    "wvdata = cut_llist['wave'].data\n",
    "wvdata.sort()"
   ]
  },
  {
   "cell_type": "markdown",
   "metadata": {},
   "source": [
    "### Run"
   ]
  },
  {
   "cell_type": "code",
   "execution_count": 36,
   "metadata": {
    "collapsed": false
   },
   "outputs": [],
   "source": [
    "reload(arch_patt)\n",
    "pypit_fit = lrisb\n",
    "tcent = np.array(pypit_fit['tcent'])\n",
    "nlin = tcent.size\n",
    "# init\n",
    "final_idx = {}\n",
    "for ii in range(nlin):\n",
    "    final_idx[ii] = []\n",
    "#\n",
    "for idx in range(nlin-4):\n",
    "    # Setup\n",
    "    spec_lines = np.array(tcent[idx:idx+4])\n",
    "    wvmnx = [wave[idx]-swv_uncertainty, wave[idx]+swv_uncertainty]\n",
    "    # Run\n",
    "    #pdb.set_trace()\n",
    "    matches = arch_patt.match_quad_to_list(spec_lines, wvdata, wvmnx, 1.26, tol=1)\n",
    "    # Save\n",
    "    for match in matches:\n",
    "        for ii in range(4):\n",
    "            final_idx[idx+ii].append(match[ii])"
   ]
  },
  {
   "cell_type": "code",
   "execution_count": 37,
   "metadata": {
    "collapsed": false
   },
   "outputs": [
    {
     "data": {
      "text/plain": [
       "{0: [0],\n",
       " 1: [1, 1],\n",
       " 2: [2, 2],\n",
       " 3: [3, 3],\n",
       " 4: [4, 4],\n",
       " 5: [5, 5],\n",
       " 6: [6, 6, 6],\n",
       " 7: [7, 7, 7],\n",
       " 8: [8, 8, 8],\n",
       " 9: [9, 9, 9],\n",
       " 10: [10, 10, 10],\n",
       " 11: [11, 11, 11, 11],\n",
       " 12: [12, 12, 12, 12],\n",
       " 13: [13, 13, 13],\n",
       " 14: [14, 14],\n",
       " 15: [15],\n",
       " 16: []}"
      ]
     },
     "execution_count": 37,
     "metadata": {},
     "output_type": "execute_result"
    }
   ],
   "source": [
    "final_idx"
   ]
  },
  {
   "cell_type": "code",
   "execution_count": null,
   "metadata": {
    "collapsed": true
   },
   "outputs": [],
   "source": []
  }
 ],
 "metadata": {
  "kernelspec": {
   "display_name": "Python 2",
   "language": "python",
   "name": "python2"
  },
  "language_info": {
   "codemirror_mode": {
    "name": "ipython",
    "version": 2
   },
   "file_extension": ".py",
   "mimetype": "text/x-python",
   "name": "python",
   "nbconvert_exporter": "python",
   "pygments_lexer": "ipython2",
   "version": "2.7.11"
  }
 },
 "nbformat": 4,
 "nbformat_minor": 0
}
