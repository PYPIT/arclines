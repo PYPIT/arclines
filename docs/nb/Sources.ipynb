{
 "cells": [
  {
   "cell_type": "markdown",
   "metadata": {},
   "source": [
    "# Notebook describing ArcLine Sources in arclines (v1.1)"
   ]
  },
  {
   "cell_type": "code",
   "execution_count": 1,
   "metadata": {
    "collapsed": true
   },
   "outputs": [],
   "source": [
    "# imports\n",
    "from arclines import io as arcl_io"
   ]
  },
  {
   "cell_type": "code",
   "execution_count": 3,
   "metadata": {
    "collapsed": false
   },
   "outputs": [
    {
     "data": {
      "text/html": [
       "&lt;Table length=2&gt;\n",
       "<table id=\"table4548507344\" class=\"table-striped table-bordered table-condensed\">\n",
       "<thead><tr><th>File</th><th>Author</th><th>Date</th><th>Instr</th><th>Lamps</th><th>wvmin</th><th>wvmax</th><th>Format</th></tr></thead>\n",
       "<thead><tr><th>str25</th><th>str3</th><th>str11</th><th>str5</th><th>str19</th><th>float64</th><th>float64</th><th>str6</th></tr></thead>\n",
       "<tr><td>lrisr_600_7500_PYPIT.json</td><td>JXP</td><td>17-Dec-2016</td><td>LRISr</td><td>ArI,HgI,KrI,NeI,XeI</td><td>5700.0</td><td>8900.0</td><td>PYPIT1</td></tr>\n",
       "<tr><td>lrisb_600_4000_PYPIT.json</td><td>JXP</td><td>17-Dec-2016</td><td>LRISb</td><td>CdI,HgI,ZnI</td><td>3100.0</td><td>5500.0</td><td>PYPIT1</td></tr>\n",
       "</table>"
      ],
      "text/plain": [
       "<Table length=2>\n",
       "           File           Author     Date    Instr ...  wvmin   wvmax  Format\n",
       "          str25            str3     str11     str5 ... float64 float64  str6 \n",
       "------------------------- ------ ----------- ----- ... ------- ------- ------\n",
       "lrisr_600_7500_PYPIT.json    JXP 17-Dec-2016 LRISr ...  5700.0  8900.0 PYPIT1\n",
       "lrisb_600_4000_PYPIT.json    JXP 17-Dec-2016 LRISb ...  3100.0  5500.0 PYPIT1"
      ]
     },
     "execution_count": 3,
     "metadata": {},
     "output_type": "execute_result"
    }
   ],
   "source": [
    "sources = arcl_io.load_source_table()\n",
    "sources"
   ]
  },
  {
   "cell_type": "markdown",
   "metadata": {},
   "source": [
    "## LRISr"
   ]
  },
  {
   "cell_type": "markdown",
   "metadata": {},
   "source": [
    "### lrisr_600_7500_PYPIT.json\n",
    "    Arc solution from PYPIT of a standard LRIRr exposure with the D560 dichroic and 600/7500 grating"
   ]
  },
  {
   "cell_type": "markdown",
   "metadata": {
    "collapsed": true
   },
   "source": [
    "## LRISb"
   ]
  },
  {
   "cell_type": "markdown",
   "metadata": {},
   "source": [
    "### lrisb_600_4000_PYPIT.json\n",
    "    Arc solution from PYPIT of a standard LRIRb long-slit exposure with the D560 dichroic and 600/4000 grating"
   ]
  },
  {
   "cell_type": "code",
   "execution_count": null,
   "metadata": {
    "collapsed": true
   },
   "outputs": [],
   "source": []
  }
 ],
 "metadata": {
  "kernelspec": {
   "display_name": "Python 2",
   "language": "python",
   "name": "python2"
  },
  "language_info": {
   "codemirror_mode": {
    "name": "ipython",
    "version": 2
   },
   "file_extension": ".py",
   "mimetype": "text/x-python",
   "name": "python",
   "nbconvert_exporter": "python",
   "pygments_lexer": "ipython2",
   "version": "2.7.11"
  }
 },
 "nbformat": 4,
 "nbformat_minor": 0
}
