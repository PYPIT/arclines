{
 "cells": [
  {
   "cell_type": "markdown",
   "metadata": {},
   "source": [
    "# Notebook describing ArcLine Sources in arclines"
   ]
  },
  {
   "cell_type": "code",
   "execution_count": 2,
   "metadata": {
    "collapsed": true
   },
   "outputs": [],
   "source": [
    "# imports\n",
    "from arclines import io as arcl_io"
   ]
  },
  {
   "cell_type": "code",
   "execution_count": 4,
   "metadata": {
    "collapsed": false
   },
   "outputs": [
    {
     "data": {
      "text/html": [
       "&lt;Table length=1&gt;\n",
       "<table id=\"table4549979600\" class=\"table-striped table-bordered table-condensed\">\n",
       "<thead><tr><th>File</th><th>Author</th><th>Date</th><th>Instr</th><th>Lamps</th><th>wvmin</th><th>wvmax</th><th>Format</th></tr></thead>\n",
       "<thead><tr><th>str25</th><th>str3</th><th>str11</th><th>str5</th><th>str19</th><th>float64</th><th>float64</th><th>str6</th></tr></thead>\n",
       "<tr><td>lrisr_600_7500_PYPIT.json</td><td>JXP</td><td>17-Dec-2016</td><td>LRISr</td><td>ArI,HgI,KrI,NeI,XeI</td><td>5700.0</td><td>8900.0</td><td>PYPIT1</td></tr>\n",
       "</table>"
      ],
      "text/plain": [
       "<Table length=1>\n",
       "           File           Author     Date    Instr ...  wvmin   wvmax  Format\n",
       "          str25            str3     str11     str5 ... float64 float64  str6 \n",
       "------------------------- ------ ----------- ----- ... ------- ------- ------\n",
       "lrisr_600_7500_PYPIT.json    JXP 17-Dec-2016 LRISr ...  5700.0  8900.0 PYPIT1"
      ]
     },
     "execution_count": 4,
     "metadata": {},
     "output_type": "execute_result"
    }
   ],
   "source": [
    "sources = arcl_io.load_sources()\n",
    "sources"
   ]
  },
  {
   "cell_type": "markdown",
   "metadata": {},
   "source": [
    "## LRISr"
   ]
  },
  {
   "cell_type": "markdown",
   "metadata": {},
   "source": [
    "### lrisr_600_7500_PYPIT.json\n",
    "    Arc solution from PYPIT of a standard LRIRr exposure with the D560 dichroic and 600/7500 grating"
   ]
  },
  {
   "cell_type": "code",
   "execution_count": null,
   "metadata": {
    "collapsed": true
   },
   "outputs": [],
   "source": []
  }
 ],
 "metadata": {
  "kernelspec": {
   "display_name": "Python 2",
   "language": "python",
   "name": "python2"
  },
  "language_info": {
   "codemirror_mode": {
    "name": "ipython",
    "version": 2
   },
   "file_extension": ".py",
   "mimetype": "text/x-python",
   "name": "python",
   "nbconvert_exporter": "python",
   "pygments_lexer": "ipython2",
   "version": "2.7.11"
  }
 },
 "nbformat": 4,
 "nbformat_minor": 0
}
