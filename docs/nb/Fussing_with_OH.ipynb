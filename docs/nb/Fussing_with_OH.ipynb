{
 "cells": [
  {
   "cell_type": "markdown",
   "metadata": {},
   "source": [
    "# Fussing with OH line lists and analysis"
   ]
  },
  {
   "cell_type": "code",
   "execution_count": 1,
   "metadata": {
    "collapsed": true
   },
   "outputs": [],
   "source": [
    "# imports\n",
    "from pkg_resources import resource_filename\n",
    "\n",
    "from astropy.table import Table"
   ]
  },
  {
   "cell_type": "markdown",
   "metadata": {},
   "source": [
    "## Generate a faux line list"
   ]
  },
  {
   "cell_type": "markdown",
   "metadata": {},
   "source": [
    "### Read TripleSpec line list"
   ]
  },
  {
   "cell_type": "code",
   "execution_count": 10,
   "metadata": {
    "collapsed": true
   },
   "outputs": [],
   "source": [
    "tspec_file = resource_filename('arclines', 'data/NIST/tspec_OH_skyline.ascii')"
   ]
  },
  {
   "cell_type": "code",
   "execution_count": 11,
   "metadata": {},
   "outputs": [
    {
     "data": {
      "text/html": [
       "<i>Table length=5</i>\n",
       "<table id=\"table140407509626048\" class=\"table-striped table-bordered table-condensed\">\n",
       "<thead><tr><th>wave</th></tr></thead>\n",
       "<thead><tr><th>float64</th></tr></thead>\n",
       "<tr><td>8016.2674</td></tr>\n",
       "<tr><td>8028.0092</td></tr>\n",
       "<tr><td>8054.2285</td></tr>\n",
       "<tr><td>8064.4015</td></tr>\n",
       "<tr><td>8104.7308</td></tr>\n",
       "</table>"
      ],
      "text/plain": [
       "<Table length=5>\n",
       "   wave  \n",
       " float64 \n",
       "---------\n",
       "8016.2674\n",
       "8028.0092\n",
       "8054.2285\n",
       "8064.4015\n",
       "8104.7308"
      ]
     },
     "execution_count": 11,
     "metadata": {},
     "output_type": "execute_result"
    }
   ],
   "source": [
    "tspec = Table.read(tspec_file, format='ascii')\n",
    "tspec[0:5]"
   ]
  },
  {
   "cell_type": "markdown",
   "metadata": {},
   "source": [
    "### Build it up"
   ]
  },
  {
   "cell_type": "code",
   "execution_count": 12,
   "metadata": {
    "collapsed": true
   },
   "outputs": [],
   "source": [
    "oh_lines = tspec.copy()"
   ]
  },
  {
   "cell_type": "code",
   "execution_count": 13,
   "metadata": {
    "collapsed": true
   },
   "outputs": [],
   "source": [
    "oh_lines['ion'] = 'OH'\n",
    "oh_lines['NIST'] = 1\n",
    "oh_lines['Instr'] = 32\n",
    "oh_lines['amplitude'] = 10000. # make believe\n",
    "oh_lines['Source'] = 'tspec_PYPIT.json'"
   ]
  },
  {
   "cell_type": "code",
   "execution_count": 14,
   "metadata": {
    "collapsed": true
   },
   "outputs": [],
   "source": [
    "oh_line_file = resource_filename('arclines', 'data/lists/OH_lines.dat')"
   ]
  },
  {
   "cell_type": "code",
   "execution_count": 15,
   "metadata": {},
   "outputs": [
    {
     "name": "stderr",
     "output_type": "stream",
     "text": [
      "WARNING: AstropyDeprecationWarning: /data/Projects/Python/arclines/arclines/data/lists/OH_lines.dat already exists. Automatically overwriting ASCII files is deprecated. Use the argument 'overwrite=True' in the future. [astropy.io.ascii.ui]\n"
     ]
    }
   ],
   "source": [
    "oh_lines.write(oh_line_file, format='ascii.fixed_width')"
   ]
  },
  {
   "cell_type": "markdown",
   "metadata": {
    "collapsed": true
   },
   "source": [
    "----"
   ]
  },
  {
   "cell_type": "markdown",
   "metadata": {},
   "source": [
    "## NIRSPEC R24000 list"
   ]
  },
  {
   "cell_type": "code",
   "execution_count": 2,
   "metadata": {
    "collapsed": true
   },
   "outputs": [],
   "source": [
    "nirspec_file = resource_filename('arclines', 'data/misc/nirspec_OH_R24000_vacuum.ascii')"
   ]
  },
  {
   "cell_type": "code",
   "execution_count": 4,
   "metadata": {},
   "outputs": [],
   "source": [
    "nirspec = Table.read(nirspec_file, format='ascii')"
   ]
  },
  {
   "cell_type": "code",
   "execution_count": 5,
   "metadata": {},
   "outputs": [
    {
     "data": {
      "text/html": [
       "<i>Table length=5</i>\n",
       "<table id=\"table140658612736296\" class=\"table-striped table-bordered table-condensed\">\n",
       "<thead><tr><th>Wavelength</th><th>Relative_Strength</th></tr></thead>\n",
       "<thead><tr><th>float64</th><th>float64</th></tr></thead>\n",
       "<tr><td>9479.561</td><td>53.8</td></tr>\n",
       "<tr><td>9505.418</td><td>16.1</td></tr>\n",
       "<tr><td>9521.793</td><td>40.6</td></tr>\n",
       "<tr><td>9555.199</td><td>10.3</td></tr>\n",
       "<tr><td>9569.714</td><td>23.1</td></tr>\n",
       "</table>"
      ],
      "text/plain": [
       "<Table length=5>\n",
       "Wavelength Relative_Strength\n",
       " float64        float64     \n",
       "---------- -----------------\n",
       "  9479.561              53.8\n",
       "  9505.418              16.1\n",
       "  9521.793              40.6\n",
       "  9555.199              10.3\n",
       "  9569.714              23.1"
      ]
     },
     "execution_count": 5,
     "metadata": {},
     "output_type": "execute_result"
    }
   ],
   "source": [
    "nirspec[0:5]"
   ]
  },
  {
   "cell_type": "code",
   "execution_count": 7,
   "metadata": {
    "collapsed": true
   },
   "outputs": [],
   "source": [
    "oh_lines = Table()\n",
    "oh_lines['wave'] = nirspec['Wavelength']\n",
    "oh_lines['amplitude'] = nirspec['Relative_Strength']\n",
    "oh_lines['ion'] = 'OH'\n",
    "oh_lines['NIST'] = 0\n",
    "oh_lines['Instr'] = 32\n",
    "oh_lines['Source'] = 'nirspec_OH_R24000_vacuum.ascii'"
   ]
  },
  {
   "cell_type": "code",
   "execution_count": 12,
   "metadata": {
    "collapsed": true
   },
   "outputs": [],
   "source": [
    "outfile = resource_filename('arclines', 'data/lists/OH_R24000_lines.dat')"
   ]
  },
  {
   "cell_type": "code",
   "execution_count": 13,
   "metadata": {
    "collapsed": true
   },
   "outputs": [],
   "source": [
    "oh_lines.write(outfile, format='ascii.fixed_width')"
   ]
  },
  {
   "cell_type": "code",
   "execution_count": null,
   "metadata": {
    "collapsed": true
   },
   "outputs": [],
   "source": []
  }
 ],
 "metadata": {
  "kernelspec": {
   "display_name": "Python 3",
   "language": "python",
   "name": "python3"
  },
  "language_info": {
   "codemirror_mode": {
    "name": "ipython",
    "version": 3
   },
   "file_extension": ".py",
   "mimetype": "text/x-python",
   "name": "python",
   "nbconvert_exporter": "python",
   "pygments_lexer": "ipython3",
   "version": "3.6.5"
  }
 },
 "nbformat": 4,
 "nbformat_minor": 2
}
